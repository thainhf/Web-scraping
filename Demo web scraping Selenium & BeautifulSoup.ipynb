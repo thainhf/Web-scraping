{
 "cells": [
  {
   "cell_type": "markdown",
   "id": "fb5b7cc4",
   "metadata": {},
   "source": [
    "# Demo web scraping"
   ]
  },
  {
   "cell_type": "markdown",
   "id": "c3638db2",
   "metadata": {},
   "source": [
    "website : https://www.eef.or.th/"
   ]
  },
  {
   "cell_type": "markdown",
   "id": "f7a95c18",
   "metadata": {},
   "source": [
    "## Install package\n",
    "- Beautifulsoup (https://beautiful-soup-4.readthedocs.io/en/latest/)\n",
    "- Selenium Documentation (https://www.selenium.dev/documentation/)"
   ]
  },
  {
   "cell_type": "code",
   "execution_count": null,
   "id": "c00e9bef",
   "metadata": {},
   "outputs": [],
   "source": [
    "#!pip install beautifulsoup4"
   ]
  },
  {
   "cell_type": "code",
   "execution_count": null,
   "id": "bc553a82",
   "metadata": {},
   "outputs": [],
   "source": [
    "#!pip install selenium"
   ]
  },
  {
   "cell_type": "markdown",
   "id": "cb25f763",
   "metadata": {},
   "source": [
    "# Webdriver (Edge browser)\n",
    "- Download webdriver\n",
    "- Web driver (for Microsoft Edge browser : you can find by typing 'edge webdriver' in the google search)\n",
    "- or https://developer.microsoft.com/en-us/microsoft-edge/tools/webdriver/\n",
    "- check your version browser (Setting and more [Alt+F] --> Setting --> About microsoft edge)\n",
    "- dont forget to check your driver is in the correct directory"
   ]
  },
  {
   "cell_type": "code",
   "execution_count": 1,
   "id": "30cb4a62",
   "metadata": {},
   "outputs": [],
   "source": [
    "from selenium import webdriver\n",
    "from bs4 import BeautifulSoup\n",
    "from time import sleep\n",
    "import re\n",
    "import pandas as pd"
   ]
  },
  {
   "cell_type": "markdown",
   "id": "55493984",
   "metadata": {},
   "source": [
    "# Setting Directory"
   ]
  },
  {
   "cell_type": "code",
   "execution_count": 2,
   "id": "82886291",
   "metadata": {},
   "outputs": [
    {
     "name": "stdout",
     "output_type": "stream",
     "text": [
      "D:\\PUM works\\Year 3 Semester2\\Thainhf\\Web scraping\n"
     ]
    }
   ],
   "source": [
    "%cd D:\\PUM works\\Year 3 Semester2\\Thainhf\\Web scraping\n",
    "#Directory driver [%cd your directory]"
   ]
  },
  {
   "cell_type": "markdown",
   "id": "59bd97cd",
   "metadata": {},
   "source": [
    "## Initialize webdriver with Selenium\n",
    "- (for Chrome) driver = webdriver.Chorme(executable_path='./chromedriver')\n",
    "- (for Firefox) driver = webdriver.Firefox(executable_path='./geckodriver')\n",
    "- (for Edge) driver = webdriver.Edge(executable_path='./msedgedriver')"
   ]
  },
  {
   "cell_type": "markdown",
   "id": "de43194e",
   "metadata": {},
   "source": [
    "<span style=\"color:red\"><b>*Note that you should download browser driver first before implement</b></span>"
   ]
  },
  {
   "cell_type": "code",
   "execution_count": null,
   "id": "5482089e",
   "metadata": {},
   "outputs": [],
   "source": [
    "#driver = webdriver.Edge(executable_path='./msedgedriver')\n",
    "#driver.implicitly_wait(30)"
   ]
  },
  {
   "cell_type": "code",
   "execution_count": null,
   "id": "e197dc78",
   "metadata": {},
   "outputs": [],
   "source": [
    "#url = 'https://www.eef.or.th/'\n",
    "#driver.get(url)"
   ]
  },
  {
   "cell_type": "markdown",
   "id": "b7440d90",
   "metadata": {},
   "source": [
    "## Setting driver with options to optimize function for web scraping"
   ]
  },
  {
   "cell_type": "code",
   "execution_count": 3,
   "id": "4082f3b7",
   "metadata": {},
   "outputs": [
    {
     "data": {
      "text/plain": [
       "Timestamp('2022-03-12 02:44:23.376003')"
      ]
     },
     "execution_count": 3,
     "metadata": {},
     "output_type": "execute_result"
    }
   ],
   "source": [
    "pd.Timestamp.today() #Timestamp"
   ]
  },
  {
   "cell_type": "code",
   "execution_count": 153,
   "id": "712bddb4",
   "metadata": {},
   "outputs": [
    {
     "name": "stderr",
     "output_type": "stream",
     "text": [
      "C:\\Users\\66885\\AppData\\Local\\Temp/ipykernel_9420/3608920239.py:12: DeprecationWarning: executable_path has been deprecated, please pass in a Service object\n",
      "  driver = webdriver.Edge(executable_path ='./msedgedriver',options=options)\n"
     ]
    }
   ],
   "source": [
    "options = webdriver.EdgeOptions()\n",
    "\n",
    "directory_download = 'D:\\\\PUM works\\\\Year 3 Semester2\\\\Thainhf\\\\Web scraping\\\\PDF' #Directory download files\n",
    "\n",
    "options.add_experimental_option('prefs',{\n",
    "    'download.default_directory': directory_download, #directory download pdf files\n",
    "    'download.prompt_for_download':False, #Automate download files\n",
    "    'download.directory_upgrade': True,\n",
    "    'plugins.always_open_pdf_externally': True #not show PDF directory in Edge browser\n",
    "})\n",
    "\n",
    "driver = webdriver.Edge(executable_path ='./msedgedriver',options=options)\n",
    "\n",
    "url = 'https://www.eef.or.th/category/publication/'\n",
    "driver.get(url)\n",
    "driver.implicitly_wait(30)\n"
   ]
  },
  {
   "cell_type": "code",
   "execution_count": null,
   "id": "9b092c2d",
   "metadata": {},
   "outputs": [],
   "source": [
    "#url = 'https://www.eef.or.th/'\n",
    "#driver.get(url)"
   ]
  },
  {
   "cell_type": "markdown",
   "id": "0851a2e5",
   "metadata": {},
   "source": [
    "## Web crawling"
   ]
  },
  {
   "cell_type": "code",
   "execution_count": null,
   "id": "0b985c6c",
   "metadata": {},
   "outputs": [],
   "source": [
    "next_page = driver.find_element_by_xpath('//a[@class=\"page-numbers\"]') # Next page element\n",
    "next_page.click() "
   ]
  },
  {
   "cell_type": "code",
   "execution_count": 41,
   "id": "affa2021",
   "metadata": {},
   "outputs": [
    {
     "data": {
      "text/plain": [
       "'https://www.eef.or.th/teachereef-110322/'"
      ]
     },
     "execution_count": 41,
     "metadata": {},
     "output_type": "execute_result"
    }
   ],
   "source": [
    "article = soup.select('article > div[class=\"pic\"] > a[href]')"
   ]
  },
  {
   "cell_type": "code",
   "execution_count": 10,
   "id": "d6d026d6",
   "metadata": {},
   "outputs": [
    {
     "name": "stdout",
     "output_type": "stream",
     "text": [
      "https://www.eef.or.th/publication-abe-0322/\n",
      "https://www.eef.or.th/070122/\n",
      "https://www.eef.or.th/publication-play-to-take-care-of-children-minds/\n",
      "https://www.eef.or.th/publication-vaccines-have-arrived/\n",
      "https://www.eef.or.th/publication-01-21/\n",
      "https://www.eef.or.th/publication-08-06-20/\n",
      "https://www.eef.or.th/publication-12-20/\n",
      "https://www.eef.or.th/publication-11-20/\n",
      "https://www.eef.or.th/449-20/\n",
      "https://www.eef.or.th/448-20/\n"
     ]
    },
    {
     "name": "stderr",
     "output_type": "stream",
     "text": [
      "C:\\Users\\66885\\AppData\\Local\\Temp/ipykernel_9420/3529246950.py:11: DeprecationWarning: find_element_by_xpath is deprecated. Please use find_element(by=By.XPATH, value=xpath) instead\n",
      "  next_page = driver.find_element_by_xpath('//a[@class=\"page-numbers\"]')\n"
     ]
    },
    {
     "name": "stdout",
     "output_type": "stream",
     "text": [
      "https://www.eef.or.th/447-20/\n",
      "https://www.eef.or.th/446-20/\n",
      "https://www.eef.or.th/120c/\n",
      "https://www.eef.or.th/120b/\n",
      "https://www.eef.or.th/120a/\n",
      "https://www.eef.or.th/120-2/\n",
      "https://www.eef.or.th/newsletter-01/\n",
      "https://www.eef.or.th/%e0%b8%88%e0%b8%94%e0%b8%ab%e0%b8%a1%e0%b8%b2%e0%b8%a2%e0%b8%82%e0%b9%88%e0%b8%b2%e0%b8%a7%e0%b9%81%e0%b8%9a%e0%b9%88%e0%b8%87%e0%b8%9b%e0%b8%b1%e0%b8%99%e0%b9%81%e0%b8%a5%e0%b8%81%e0%b9%80%e0%b8%9b-3/\n",
      "https://www.eef.or.th/%e0%b8%88%e0%b8%b8%e0%b8%a5%e0%b8%aa%e0%b8%b2%e0%b8%a3-eef-%e0%b8%89%e0%b8%9a%e0%b8%b1%e0%b8%9a%e0%b8%97%e0%b8%b5%e0%b9%88-1/\n",
      "https://www.eef.or.th/%e0%b8%aa%e0%b8%b9%e0%b8%95%e0%b8%a3%e0%b8%ab%e0%b9%89%e0%b8%ad%e0%b8%87%e0%b9%80%e0%b8%a3%e0%b8%b5%e0%b8%a2%e0%b8%99%e0%b8%aa%e0%b8%b8%e0%b8%82/\n"
     ]
    }
   ],
   "source": [
    "urls_index = list()\n",
    "#permalinks = list()\n",
    "for i in range(2): # determine number of pages by observing \n",
    "    #get elements\n",
    "    soup = BeautifulSoup(driver.page_source,'html.parser')\n",
    "    article = soup.select('article > div[class=\"pic\"] > a[href]')\n",
    "    for i in range (len(article)):\n",
    "        print(article[i]['href'])\n",
    "        urls_index.append(article[i]['href'])\n",
    "    \n",
    "    next_page = driver.find_element_by_xpath('//a[@class=\"page-numbers\"]')\n",
    "    next_page.click()"
   ]
  },
  {
   "cell_type": "code",
   "execution_count": 12,
   "id": "667e73fd",
   "metadata": {},
   "outputs": [
    {
     "data": {
      "text/plain": [
       "20"
      ]
     },
     "execution_count": 12,
     "metadata": {},
     "output_type": "execute_result"
    }
   ],
   "source": [
    "len(urls_index)"
   ]
  },
  {
   "cell_type": "markdown",
   "id": "44ef558c",
   "metadata": {},
   "source": [
    "## Finding pattern .pdf files"
   ]
  },
  {
   "cell_type": "code",
   "execution_count": 110,
   "id": "b1ea026f",
   "metadata": {
    "scrolled": true
   },
   "outputs": [
    {
     "data": {
      "text/plain": [
       "'https://www.eef.or.th/wp-content/uploads/2020/10/Journal-04-ทักษะชีวิต-ทักษะอาชีพ.pdf'"
      ]
     },
     "execution_count": 110,
     "metadata": {},
     "output_type": "execute_result"
    }
   ],
   "source": [
    "soup = BeautifulSoup(driver.page_source,\"html.parser\")\n",
    "download = soup.select('div[class=\"btn-download\"] > a')\n",
    "download[0]['href']"
   ]
  },
  {
   "cell_type": "code",
   "execution_count": 113,
   "id": "df9d5125",
   "metadata": {},
   "outputs": [
    {
     "data": {
      "text/plain": [
       "<re.Match object; span=(48, 85), match='/Journal-04-ทักษะชีวิต-ทักษะอาชีพ.pdf'>"
      ]
     },
     "execution_count": 113,
     "metadata": {},
     "output_type": "execute_result"
    }
   ],
   "source": [
    "re.search(r'/[_a-zA-z0-9ก-๙ -]+[_a-zA-z0-9ก-๙ -]+[_a-zA-z0-9ก-๙ -]+\\.(pdf)',download[0]['href'])"
   ]
  },
  {
   "cell_type": "code",
   "execution_count": 115,
   "id": "75399184",
   "metadata": {},
   "outputs": [
    {
     "name": "stdout",
     "output_type": "stream",
     "text": [
      "/Journal-04-ทักษะชีวิต-ทักษะอาชีพ.pdf\n"
     ]
    }
   ],
   "source": [
    "pdf_name = re.compile(r'/[_a-zA-z0-9ก-๙ -]+[_a-zA-z0-9ก-๙ -]+[_a-zA-z0-9ก-๙ -]+\\.(pdf)')\n",
    "matches = pdf_name.finditer(download[0]['href'])\n",
    "for m in matches:\n",
    "    print(m.group())"
   ]
  },
  {
   "cell_type": "code",
   "execution_count": 102,
   "id": "39778ca9",
   "metadata": {},
   "outputs": [],
   "source": [
    "#re.search(r'/[a-zA-z0-9]+[_a-zA-Z0-9 -]+[_a-zA-z0-9ก-๙ -]+\\.(pdf)',download[0]['href'])"
   ]
  },
  {
   "cell_type": "code",
   "execution_count": 87,
   "id": "7101a949",
   "metadata": {},
   "outputs": [],
   "source": [
    "#re.search(r'/[a-zA-z0-9]+[_a-zA-Z0-9 -]+\\.(pdf)',download[0]['href'])"
   ]
  },
  {
   "cell_type": "code",
   "execution_count": 78,
   "id": "cbdf4e4c",
   "metadata": {
    "scrolled": true
   },
   "outputs": [
    {
     "data": {
      "text/plain": [
       "<re.Match object; span=(61, 95), match='เงื่อนไขสำคัญของนักเรียนทุนเสมอภาค'>"
      ]
     },
     "execution_count": 78,
     "metadata": {},
     "output_type": "execute_result"
    }
   ],
   "source": [
    "#re.search(r'[ก-๙]+',download[0]['href'])"
   ]
  },
  {
   "cell_type": "markdown",
   "id": "82ea8a93",
   "metadata": {},
   "source": [
    "## cleansing"
   ]
  },
  {
   "cell_type": "code",
   "execution_count": 168,
   "id": "7075698f",
   "metadata": {},
   "outputs": [
    {
     "data": {
      "text/plain": [
       "'2021_thai_edu_lay_2019version_edit_web.pdf'"
      ]
     },
     "execution_count": 168,
     "metadata": {},
     "output_type": "execute_result"
    }
   ],
   "source": [
    "text = '/2021_thai_edu_lay_2019version_edit_web.pdf'\n",
    "text.replace('/','')"
   ]
  },
  {
   "cell_type": "markdown",
   "id": "fc13456f",
   "metadata": {},
   "source": [
    "## Web scraping : Download PDF files"
   ]
  },
  {
   "cell_type": "code",
   "execution_count": 20,
   "id": "3e1c2767",
   "metadata": {},
   "outputs": [
    {
     "data": {
      "text/plain": [
       "0"
      ]
     },
     "execution_count": 20,
     "metadata": {},
     "output_type": "execute_result"
    }
   ],
   "source": [
    "soup = BeautifulSoup(driver.page_source,'html.parser')\n",
    "downlad = soup.select('div[class=\"btn-download\"]') #"
   ]
  },
  {
   "cell_type": "code",
   "execution_count": 145,
   "id": "4c3e9722",
   "metadata": {
    "scrolled": true
   },
   "outputs": [
    {
     "data": {
      "text/plain": [
       "'https://www.eef.or.th/wp-content/uploads/2019/05/Booklet-EEF.-Issue-1-May-2019_Ver1.pdf'"
      ]
     },
     "execution_count": 145,
     "metadata": {},
     "output_type": "execute_result"
    }
   ],
   "source": [
    "soup = BeautifulSoup(driver.page_source,\"html.parser\")\n",
    "download = soup.select('div[class=\"btn-download\"] > a')\n",
    "download[0]['href']"
   ]
  },
  {
   "cell_type": "code",
   "execution_count": 146,
   "id": "8027fe59",
   "metadata": {},
   "outputs": [
    {
     "name": "stdout",
     "output_type": "stream",
     "text": [
      "/Booklet-EEF.-Issue-1-May-2019_Ver1.pdf\n"
     ]
    }
   ],
   "source": [
    "acc = list()\n",
    "pdf_name = re.compile(r'/[_a-zA-z0-9ก-๙ -.]+[_a-zA-z0-9ก-๙ -.]+[_a-zA-z0-9ก-๙ -.]+\\.(pdf)')\n",
    "matches = pdf_name.finditer(download[0]['href'])\n",
    "for m in matches:\n",
    "    print(m.group())\n",
    "    #acc.append(m.group())"
   ]
  },
  {
   "cell_type": "code",
   "execution_count": 143,
   "id": "f7699914",
   "metadata": {},
   "outputs": [],
   "source": [
    "acc = list()\n",
    "pdf_name = re.compile(r'/[_a-zA-z0-9ก-๙ -]+[_a-zA-z0-9ก-๙ -]+[_a-zA-z0-9ก-๙ -]+\\.(pdf)')\n",
    "matches = pdf_name.finditer(download[0]['href'])\n",
    "for m in matches:\n",
    "    print(m.group())\n",
    "    #acc.append(m.group())"
   ]
  },
  {
   "cell_type": "code",
   "execution_count": 169,
   "id": "31e2dd19",
   "metadata": {},
   "outputs": [
    {
     "name": "stderr",
     "output_type": "stream",
     "text": [
      "C:\\Users\\66885\\AppData\\Local\\Temp/ipykernel_9420/2832652939.py:13: DeprecationWarning: find_element_by_xpath is deprecated. Please use find_element(by=By.XPATH, value=xpath) instead\n",
      "  load = driver.find_element_by_xpath('//div[@class=\"btn-download\"]')\n"
     ]
    },
    {
     "name": "stdout",
     "output_type": "stream",
     "text": [
      "2021_thai_edu_lay_2019version_edit_web.pdf\n",
      "None of pdf file\n",
      "savekidscovid-19_e-book.pdf\n",
      "วัคซีนมาแล้ว-สร้างภูมิคุ้มกันหมู่ด้วยวัค.pdf\n",
      "CCT_Community_Final_20210225.pdf\n",
      "None of pdf file\n",
      "CCT_Community_2-2.pdf\n",
      "CCT_Community_1-2.pdf\n",
      "Journal-052-เงื่อนไขสำคัญของนักเรียนทุนเสมอภาค.pdf\n",
      "Journal-04-ทักษะชีวิต-ทักษะอาชีพ.pdf\n",
      "Journal-033-การบริหารจัดการเงินอุดหนุนทุนเสมอภาค.pdf\n",
      "Journal-024-เทคโนโลยีเพื่ออนาคต.pdf\n",
      "คู่มือโครงการจัดสรรเงินอุดหนุน-ปี-2563-อปท.pdf\n",
      "คู่มือโครงการจัดสรรเงินอุดหนุน-ปี-2563-สพฐ.pdf\n",
      "คู่มือโครงการจัดสรรเงินอุดหนุน-ปี-2563-ตชด.pdf\n",
      "คู่มือการใช้ระบบสารสนเทศ-โครงการจัดสรรเงินอุดหนุนฯ-3-สังกัด.pdf\n",
      "Newsletter-EFF-01.pdf\n",
      "จดหมายข่าวแบ่งปันแลกเปลี่ยนเรียนรู้ฉบับที่-2.pdf\n",
      "Booklet-EEF.-Issue-1-May-2019_Ver1.pdf\n",
      "ปกหนังสือสูตรห้องเรียนสุขสนุกสอน-2.pdf\n"
     ]
    }
   ],
   "source": [
    "pdf_name_pattern = re.compile(r'/[_a-zA-z0-9ก-๙ -.]+[_a-zA-z0-9ก-๙ -.]+[_a-zA-z0-9ก-๙ -.]+\\.(pdf)')\n",
    "pdf_name = list()\n",
    "name = list()\n",
    "\n",
    "for i in urls_index:\n",
    "    driver.get(i)\n",
    "    sleep(0.05)\n",
    "    soup = BeautifulSoup(driver.page_source,'html.parser')\n",
    "    title = soup.select('div.title')\n",
    "    name.append(title[0].get_text())\n",
    "    download = soup.select('div[class=\"btn-download\"] > a')\n",
    "    if len(download) != 0:\n",
    "        load = driver.find_element_by_xpath('//div[@class=\"btn-download\"]')\n",
    "        load.click()\n",
    "        #download = soup.select('div[class=\"btn-download\"] > a')\n",
    "        matches = pdf_name_pattern.finditer(download[0]['href'])\n",
    "        for text in matches:\n",
    "            #print(text.group())\n",
    "            text = text.group()\n",
    "            text = text.replace('/','')\n",
    "            print(text)\n",
    "            pdf_name.append(text)\n",
    "        #load.click()\n",
    "    else:\n",
    "        print('None of pdf file')\n",
    "        pdf_name.append('None of pdf file')\n",
    "        continue"
   ]
  },
  {
   "cell_type": "code",
   "execution_count": 170,
   "id": "8afc955f",
   "metadata": {},
   "outputs": [
    {
     "data": {
      "text/plain": [
       "20"
      ]
     },
     "execution_count": 170,
     "metadata": {},
     "output_type": "execute_result"
    }
   ],
   "source": [
    "len(urls_index)"
   ]
  },
  {
   "cell_type": "code",
   "execution_count": 171,
   "id": "3f6b18d8",
   "metadata": {},
   "outputs": [
    {
     "data": {
      "text/plain": [
       "['https://www.eef.or.th/publication-abe-0322/',\n",
       " 'https://www.eef.or.th/070122/',\n",
       " 'https://www.eef.or.th/publication-play-to-take-care-of-children-minds/',\n",
       " 'https://www.eef.or.th/publication-vaccines-have-arrived/',\n",
       " 'https://www.eef.or.th/publication-01-21/']"
      ]
     },
     "execution_count": 171,
     "metadata": {},
     "output_type": "execute_result"
    }
   ],
   "source": [
    "urls_index[0:5]"
   ]
  },
  {
   "cell_type": "code",
   "execution_count": 172,
   "id": "f9f8c987",
   "metadata": {},
   "outputs": [
    {
     "data": {
      "text/plain": [
       "['2021_thai_edu_lay_2019version_edit_web.pdf',\n",
       " 'None of pdf file',\n",
       " 'savekidscovid-19_e-book.pdf',\n",
       " 'วัคซีนมาแล้ว-สร้างภูมิคุ้มกันหมู่ด้วยวัค.pdf',\n",
       " 'CCT_Community_Final_20210225.pdf']"
      ]
     },
     "execution_count": 172,
     "metadata": {},
     "output_type": "execute_result"
    }
   ],
   "source": [
    "pdf_name[0:5]"
   ]
  },
  {
   "cell_type": "code",
   "execution_count": 173,
   "id": "a108f494",
   "metadata": {},
   "outputs": [
    {
     "data": {
      "text/plain": [
       "20"
      ]
     },
     "execution_count": 173,
     "metadata": {},
     "output_type": "execute_result"
    }
   ],
   "source": [
    "len(pdf_name)"
   ]
  },
  {
   "cell_type": "code",
   "execution_count": 174,
   "id": "d398aa2a",
   "metadata": {},
   "outputs": [
    {
     "data": {
      "text/plain": [
       "['การจัดการศึกษาเชิงพื้นที่เพื่อลดความเหลื่อมล้ำ',\n",
       " 'ศูนย์ช่วยเหลือเด็กและเยาวชน ในภาวะวิกฤตทางการศึกษา',\n",
       " '“การเล่น” เพื่อดูแลจิตใจเด็กๆ ที่เผชิญความสูญเสีย',\n",
       " 'วัคซีนมาแล้ว สร้างภูมิคุ้มกันหมู่ด้วยวัคซีนสู้โควิด-19',\n",
       " 'COMMUNITY ชุมชนร่วมสร้างความเสมอภาคทางการศึกษา ฉบับที่ 3']"
      ]
     },
     "execution_count": 174,
     "metadata": {},
     "output_type": "execute_result"
    }
   ],
   "source": [
    "name[0:5]"
   ]
  },
  {
   "cell_type": "code",
   "execution_count": 175,
   "id": "1fb92c5c",
   "metadata": {},
   "outputs": [],
   "source": [
    "df = pd.DataFrame({\"ชื่อสิ่งพิมพ์\":name,\"Url\":urls_index,\"ชื่อไฟล์ PDF\":pdf_name})"
   ]
  },
  {
   "cell_type": "code",
   "execution_count": 176,
   "id": "160642ae",
   "metadata": {},
   "outputs": [
    {
     "data": {
      "text/html": [
       "<div>\n",
       "<style scoped>\n",
       "    .dataframe tbody tr th:only-of-type {\n",
       "        vertical-align: middle;\n",
       "    }\n",
       "\n",
       "    .dataframe tbody tr th {\n",
       "        vertical-align: top;\n",
       "    }\n",
       "\n",
       "    .dataframe thead th {\n",
       "        text-align: right;\n",
       "    }\n",
       "</style>\n",
       "<table border=\"1\" class=\"dataframe\">\n",
       "  <thead>\n",
       "    <tr style=\"text-align: right;\">\n",
       "      <th></th>\n",
       "      <th>ชื่อสิ่งพิมพ์</th>\n",
       "      <th>Url</th>\n",
       "      <th>ชื่อไฟล์ PDF</th>\n",
       "    </tr>\n",
       "  </thead>\n",
       "  <tbody>\n",
       "    <tr>\n",
       "      <th>0</th>\n",
       "      <td>การจัดการศึกษาเชิงพื้นที่เพื่อลดความเหลื่อมล้ำ</td>\n",
       "      <td>https://www.eef.or.th/publication-abe-0322/</td>\n",
       "      <td>2021_thai_edu_lay_2019version_edit_web.pdf</td>\n",
       "    </tr>\n",
       "    <tr>\n",
       "      <th>1</th>\n",
       "      <td>ศูนย์ช่วยเหลือเด็กและเยาวชน ในภาวะวิกฤตทางการศ...</td>\n",
       "      <td>https://www.eef.or.th/070122/</td>\n",
       "      <td>None of pdf file</td>\n",
       "    </tr>\n",
       "    <tr>\n",
       "      <th>2</th>\n",
       "      <td>“การเล่น” เพื่อดูแลจิตใจเด็กๆ ที่เผชิญความสูญเสีย</td>\n",
       "      <td>https://www.eef.or.th/publication-play-to-take...</td>\n",
       "      <td>savekidscovid-19_e-book.pdf</td>\n",
       "    </tr>\n",
       "    <tr>\n",
       "      <th>3</th>\n",
       "      <td>วัคซีนมาแล้ว สร้างภูมิคุ้มกันหมู่ด้วยวัคซีนสู้...</td>\n",
       "      <td>https://www.eef.or.th/publication-vaccines-hav...</td>\n",
       "      <td>วัคซีนมาแล้ว-สร้างภูมิคุ้มกันหมู่ด้วยวัค.pdf</td>\n",
       "    </tr>\n",
       "    <tr>\n",
       "      <th>4</th>\n",
       "      <td>COMMUNITY ชุมชนร่วมสร้างความเสมอภาคทางการศึกษา...</td>\n",
       "      <td>https://www.eef.or.th/publication-01-21/</td>\n",
       "      <td>CCT_Community_Final_20210225.pdf</td>\n",
       "    </tr>\n",
       "    <tr>\n",
       "      <th>5</th>\n",
       "      <td>สรุปการประชุมเวทีนวัตกรรมท้องถิ่นร่วมสร้างความ...</td>\n",
       "      <td>https://www.eef.or.th/publication-08-06-20/</td>\n",
       "      <td>None of pdf file</td>\n",
       "    </tr>\n",
       "    <tr>\n",
       "      <th>6</th>\n",
       "      <td>COMMUNITY ชุมชนร่วมสร้างความเสมอภาคทางการศึกษา...</td>\n",
       "      <td>https://www.eef.or.th/publication-12-20/</td>\n",
       "      <td>CCT_Community_2-2.pdf</td>\n",
       "    </tr>\n",
       "    <tr>\n",
       "      <th>7</th>\n",
       "      <td>COMMUNITY ชุมชนร่วมสร้างความเสมอภาคทางการศึกษา...</td>\n",
       "      <td>https://www.eef.or.th/publication-11-20/</td>\n",
       "      <td>CCT_Community_1-2.pdf</td>\n",
       "    </tr>\n",
       "    <tr>\n",
       "      <th>8</th>\n",
       "      <td>เงื่อนไขสำคัญของนักเรียนทุนเสมอภาค</td>\n",
       "      <td>https://www.eef.or.th/449-20/</td>\n",
       "      <td>Journal-052-เงื่อนไขสำคัญของนักเรียนทุนเสมอภาค...</td>\n",
       "    </tr>\n",
       "    <tr>\n",
       "      <th>9</th>\n",
       "      <td>ทักษะชีวิต ทักษะอาชีพ</td>\n",
       "      <td>https://www.eef.or.th/448-20/</td>\n",
       "      <td>Journal-04-ทักษะชีวิต-ทักษะอาชีพ.pdf</td>\n",
       "    </tr>\n",
       "    <tr>\n",
       "      <th>10</th>\n",
       "      <td>บริหารจัดการเงินอุดหนุนนักเรียนทุนอย่างไรให้ยั...</td>\n",
       "      <td>https://www.eef.or.th/447-20/</td>\n",
       "      <td>Journal-033-การบริหารจัดการเงินอุดหนุนทุนเสมอภ...</td>\n",
       "    </tr>\n",
       "    <tr>\n",
       "      <th>11</th>\n",
       "      <td>แบ่งปัน แลกเปลี่ยน เรียนรู้ : เทคโนโลยีเพื่ออนาคต</td>\n",
       "      <td>https://www.eef.or.th/446-20/</td>\n",
       "      <td>Journal-024-เทคโนโลยีเพื่ออนาคต.pdf</td>\n",
       "    </tr>\n",
       "    <tr>\n",
       "      <th>12</th>\n",
       "      <td>คู่มือโครงการจัดสรรเงินอุดหนุน ปี 2563 อปท.</td>\n",
       "      <td>https://www.eef.or.th/120c/</td>\n",
       "      <td>คู่มือโครงการจัดสรรเงินอุดหนุน-ปี-2563-อปท.pdf</td>\n",
       "    </tr>\n",
       "    <tr>\n",
       "      <th>13</th>\n",
       "      <td>คู่มือโครงการจัดสรรเงินอุดหนุน ปี 2563 สพฐ.</td>\n",
       "      <td>https://www.eef.or.th/120b/</td>\n",
       "      <td>คู่มือโครงการจัดสรรเงินอุดหนุน-ปี-2563-สพฐ.pdf</td>\n",
       "    </tr>\n",
       "    <tr>\n",
       "      <th>14</th>\n",
       "      <td>คู่มือโครงการจัดสรรเงินอุดหนุน ปี 2563 ตชด.</td>\n",
       "      <td>https://www.eef.or.th/120a/</td>\n",
       "      <td>คู่มือโครงการจัดสรรเงินอุดหนุน-ปี-2563-ตชด.pdf</td>\n",
       "    </tr>\n",
       "    <tr>\n",
       "      <th>15</th>\n",
       "      <td>คู่มือการใช้ระบบสารสนเทศ โครงการจัดสรรเงินอุดห...</td>\n",
       "      <td>https://www.eef.or.th/120-2/</td>\n",
       "      <td>คู่มือการใช้ระบบสารสนเทศ-โครงการจัดสรรเงินอุดห...</td>\n",
       "    </tr>\n",
       "    <tr>\n",
       "      <th>16</th>\n",
       "      <td>จดหมายข่าวเสมอภาค ปีที่ 1 ฉบับที่ 1</td>\n",
       "      <td>https://www.eef.or.th/newsletter-01/</td>\n",
       "      <td>Newsletter-EFF-01.pdf</td>\n",
       "    </tr>\n",
       "    <tr>\n",
       "      <th>17</th>\n",
       "      <td>จดหมายข่าวแบ่งปันแลกเปลี่ยนเรียนรู้ ฉบับที่ 2</td>\n",
       "      <td>https://www.eef.or.th/%e0%b8%88%e0%b8%94%e0%b8...</td>\n",
       "      <td>จดหมายข่าวแบ่งปันแลกเปลี่ยนเรียนรู้ฉบับที่-2.pdf</td>\n",
       "    </tr>\n",
       "    <tr>\n",
       "      <th>18</th>\n",
       "      <td>จดหมายข่าวแบ่งปันแลกเปลี่ยนเรียนรู้ ฉบับที่ 1</td>\n",
       "      <td>https://www.eef.or.th/%e0%b8%88%e0%b8%b8%e0%b8...</td>\n",
       "      <td>Booklet-EEF.-Issue-1-May-2019_Ver1.pdf</td>\n",
       "    </tr>\n",
       "    <tr>\n",
       "      <th>19</th>\n",
       "      <td>แนะนำหนังสือสูตรห้องเรียนสุขสนุกสอน (ปรุงรสด้ว...</td>\n",
       "      <td>https://www.eef.or.th/%e0%b8%aa%e0%b8%b9%e0%b8...</td>\n",
       "      <td>ปกหนังสือสูตรห้องเรียนสุขสนุกสอน-2.pdf</td>\n",
       "    </tr>\n",
       "  </tbody>\n",
       "</table>\n",
       "</div>"
      ],
      "text/plain": [
       "                                        ชื่อสิ่งพิมพ์  \\\n",
       "0      การจัดการศึกษาเชิงพื้นที่เพื่อลดความเหลื่อมล้ำ   \n",
       "1   ศูนย์ช่วยเหลือเด็กและเยาวชน ในภาวะวิกฤตทางการศ...   \n",
       "2   “การเล่น” เพื่อดูแลจิตใจเด็กๆ ที่เผชิญความสูญเสีย   \n",
       "3   วัคซีนมาแล้ว สร้างภูมิคุ้มกันหมู่ด้วยวัคซีนสู้...   \n",
       "4   COMMUNITY ชุมชนร่วมสร้างความเสมอภาคทางการศึกษา...   \n",
       "5   สรุปการประชุมเวทีนวัตกรรมท้องถิ่นร่วมสร้างความ...   \n",
       "6   COMMUNITY ชุมชนร่วมสร้างความเสมอภาคทางการศึกษา...   \n",
       "7   COMMUNITY ชุมชนร่วมสร้างความเสมอภาคทางการศึกษา...   \n",
       "8                  เงื่อนไขสำคัญของนักเรียนทุนเสมอภาค   \n",
       "9                               ทักษะชีวิต ทักษะอาชีพ   \n",
       "10  บริหารจัดการเงินอุดหนุนนักเรียนทุนอย่างไรให้ยั...   \n",
       "11  แบ่งปัน แลกเปลี่ยน เรียนรู้ : เทคโนโลยีเพื่ออนาคต   \n",
       "12        คู่มือโครงการจัดสรรเงินอุดหนุน ปี 2563 อปท.   \n",
       "13        คู่มือโครงการจัดสรรเงินอุดหนุน ปี 2563 สพฐ.   \n",
       "14        คู่มือโครงการจัดสรรเงินอุดหนุน ปี 2563 ตชด.   \n",
       "15  คู่มือการใช้ระบบสารสนเทศ โครงการจัดสรรเงินอุดห...   \n",
       "16                จดหมายข่าวเสมอภาค ปีที่ 1 ฉบับที่ 1   \n",
       "17      จดหมายข่าวแบ่งปันแลกเปลี่ยนเรียนรู้ ฉบับที่ 2   \n",
       "18      จดหมายข่าวแบ่งปันแลกเปลี่ยนเรียนรู้ ฉบับที่ 1   \n",
       "19  แนะนำหนังสือสูตรห้องเรียนสุขสนุกสอน (ปรุงรสด้ว...   \n",
       "\n",
       "                                                  Url  \\\n",
       "0         https://www.eef.or.th/publication-abe-0322/   \n",
       "1                       https://www.eef.or.th/070122/   \n",
       "2   https://www.eef.or.th/publication-play-to-take...   \n",
       "3   https://www.eef.or.th/publication-vaccines-hav...   \n",
       "4            https://www.eef.or.th/publication-01-21/   \n",
       "5         https://www.eef.or.th/publication-08-06-20/   \n",
       "6            https://www.eef.or.th/publication-12-20/   \n",
       "7            https://www.eef.or.th/publication-11-20/   \n",
       "8                       https://www.eef.or.th/449-20/   \n",
       "9                       https://www.eef.or.th/448-20/   \n",
       "10                      https://www.eef.or.th/447-20/   \n",
       "11                      https://www.eef.or.th/446-20/   \n",
       "12                        https://www.eef.or.th/120c/   \n",
       "13                        https://www.eef.or.th/120b/   \n",
       "14                        https://www.eef.or.th/120a/   \n",
       "15                       https://www.eef.or.th/120-2/   \n",
       "16               https://www.eef.or.th/newsletter-01/   \n",
       "17  https://www.eef.or.th/%e0%b8%88%e0%b8%94%e0%b8...   \n",
       "18  https://www.eef.or.th/%e0%b8%88%e0%b8%b8%e0%b8...   \n",
       "19  https://www.eef.or.th/%e0%b8%aa%e0%b8%b9%e0%b8...   \n",
       "\n",
       "                                         ชื่อไฟล์ PDF  \n",
       "0          2021_thai_edu_lay_2019version_edit_web.pdf  \n",
       "1                                    None of pdf file  \n",
       "2                         savekidscovid-19_e-book.pdf  \n",
       "3        วัคซีนมาแล้ว-สร้างภูมิคุ้มกันหมู่ด้วยวัค.pdf  \n",
       "4                    CCT_Community_Final_20210225.pdf  \n",
       "5                                    None of pdf file  \n",
       "6                               CCT_Community_2-2.pdf  \n",
       "7                               CCT_Community_1-2.pdf  \n",
       "8   Journal-052-เงื่อนไขสำคัญของนักเรียนทุนเสมอภาค...  \n",
       "9                Journal-04-ทักษะชีวิต-ทักษะอาชีพ.pdf  \n",
       "10  Journal-033-การบริหารจัดการเงินอุดหนุนทุนเสมอภ...  \n",
       "11                Journal-024-เทคโนโลยีเพื่ออนาคต.pdf  \n",
       "12     คู่มือโครงการจัดสรรเงินอุดหนุน-ปี-2563-อปท.pdf  \n",
       "13     คู่มือโครงการจัดสรรเงินอุดหนุน-ปี-2563-สพฐ.pdf  \n",
       "14     คู่มือโครงการจัดสรรเงินอุดหนุน-ปี-2563-ตชด.pdf  \n",
       "15  คู่มือการใช้ระบบสารสนเทศ-โครงการจัดสรรเงินอุดห...  \n",
       "16                              Newsletter-EFF-01.pdf  \n",
       "17   จดหมายข่าวแบ่งปันแลกเปลี่ยนเรียนรู้ฉบับที่-2.pdf  \n",
       "18             Booklet-EEF.-Issue-1-May-2019_Ver1.pdf  \n",
       "19             ปกหนังสือสูตรห้องเรียนสุขสนุกสอน-2.pdf  "
      ]
     },
     "execution_count": 176,
     "metadata": {},
     "output_type": "execute_result"
    }
   ],
   "source": [
    "df"
   ]
  },
  {
   "cell_type": "markdown",
   "id": "506e92dd",
   "metadata": {},
   "source": [
    "## Pandas Hyperlinks"
   ]
  },
  {
   "cell_type": "code",
   "execution_count": 177,
   "id": "9828d05b",
   "metadata": {},
   "outputs": [],
   "source": [
    "from IPython.display import HTML"
   ]
  },
  {
   "cell_type": "code",
   "execution_count": 178,
   "id": "0d8dab57",
   "metadata": {},
   "outputs": [
    {
     "data": {
      "text/html": [
       "<table border=\"1\" class=\"dataframe\">\n",
       "  <thead>\n",
       "    <tr style=\"text-align: right;\">\n",
       "      <th></th>\n",
       "      <th>ชื่อสิ่งพิมพ์</th>\n",
       "      <th>Url</th>\n",
       "      <th>ชื่อไฟล์ PDF</th>\n",
       "    </tr>\n",
       "  </thead>\n",
       "  <tbody>\n",
       "    <tr>\n",
       "      <th>0</th>\n",
       "      <td>การจัดการศึกษาเชิงพื้นที่เพื่อลดความเหลื่อมล้ำ</td>\n",
       "      <td><a href=\"https://www.eef.or.th/publication-abe-0322/\" target=\"_blank\">https://www.eef.or.th/publication-abe-0322/</a></td>\n",
       "      <td>2021_thai_edu_lay_2019version_edit_web.pdf</td>\n",
       "    </tr>\n",
       "    <tr>\n",
       "      <th>1</th>\n",
       "      <td>ศูนย์ช่วยเหลือเด็กและเยาวชน ในภาวะวิกฤตทางการศึกษา</td>\n",
       "      <td><a href=\"https://www.eef.or.th/070122/\" target=\"_blank\">https://www.eef.or.th/070122/</a></td>\n",
       "      <td>None of pdf file</td>\n",
       "    </tr>\n",
       "    <tr>\n",
       "      <th>2</th>\n",
       "      <td>“การเล่น” เพื่อดูแลจิตใจเด็กๆ ที่เผชิญความสูญเสีย</td>\n",
       "      <td><a href=\"https://www.eef.or.th/publication-play-to-take-care-of-children-minds/\" target=\"_blank\">https://www.eef.or.th/publication-play-to-take-care-of-children-minds/</a></td>\n",
       "      <td>savekidscovid-19_e-book.pdf</td>\n",
       "    </tr>\n",
       "    <tr>\n",
       "      <th>3</th>\n",
       "      <td>วัคซีนมาแล้ว สร้างภูมิคุ้มกันหมู่ด้วยวัคซีนสู้โควิด-19</td>\n",
       "      <td><a href=\"https://www.eef.or.th/publication-vaccines-have-arrived/\" target=\"_blank\">https://www.eef.or.th/publication-vaccines-have-arrived/</a></td>\n",
       "      <td>วัคซีนมาแล้ว-สร้างภูมิคุ้มกันหมู่ด้วยวัค.pdf</td>\n",
       "    </tr>\n",
       "    <tr>\n",
       "      <th>4</th>\n",
       "      <td>COMMUNITY ชุมชนร่วมสร้างความเสมอภาคทางการศึกษา ฉบับที่ 3</td>\n",
       "      <td><a href=\"https://www.eef.or.th/publication-01-21/\" target=\"_blank\">https://www.eef.or.th/publication-01-21/</a></td>\n",
       "      <td>CCT_Community_Final_20210225.pdf</td>\n",
       "    </tr>\n",
       "    <tr>\n",
       "      <th>5</th>\n",
       "      <td>สรุปการประชุมเวทีนวัตกรรมท้องถิ่นร่วมสร้างความเสมอภาคทางการศึกษา วันที่ 8 มิ.ย. 2563</td>\n",
       "      <td><a href=\"https://www.eef.or.th/publication-08-06-20/\" target=\"_blank\">https://www.eef.or.th/publication-08-06-20/</a></td>\n",
       "      <td>None of pdf file</td>\n",
       "    </tr>\n",
       "    <tr>\n",
       "      <th>6</th>\n",
       "      <td>COMMUNITY ชุมชนร่วมสร้างความเสมอภาคทางการศึกษา ฉบับที่ 2</td>\n",
       "      <td><a href=\"https://www.eef.or.th/publication-12-20/\" target=\"_blank\">https://www.eef.or.th/publication-12-20/</a></td>\n",
       "      <td>CCT_Community_2-2.pdf</td>\n",
       "    </tr>\n",
       "    <tr>\n",
       "      <th>7</th>\n",
       "      <td>COMMUNITY ชุมชนร่วมสร้างความเสมอภาคทางการศึกษา ฉบับที่ 1</td>\n",
       "      <td><a href=\"https://www.eef.or.th/publication-11-20/\" target=\"_blank\">https://www.eef.or.th/publication-11-20/</a></td>\n",
       "      <td>CCT_Community_1-2.pdf</td>\n",
       "    </tr>\n",
       "    <tr>\n",
       "      <th>8</th>\n",
       "      <td>เงื่อนไขสำคัญของนักเรียนทุนเสมอภาค</td>\n",
       "      <td><a href=\"https://www.eef.or.th/449-20/\" target=\"_blank\">https://www.eef.or.th/449-20/</a></td>\n",
       "      <td>Journal-052-เงื่อนไขสำคัญของนักเรียนทุนเสมอภาค.pdf</td>\n",
       "    </tr>\n",
       "    <tr>\n",
       "      <th>9</th>\n",
       "      <td>ทักษะชีวิต ทักษะอาชีพ</td>\n",
       "      <td><a href=\"https://www.eef.or.th/448-20/\" target=\"_blank\">https://www.eef.or.th/448-20/</a></td>\n",
       "      <td>Journal-04-ทักษะชีวิต-ทักษะอาชีพ.pdf</td>\n",
       "    </tr>\n",
       "    <tr>\n",
       "      <th>10</th>\n",
       "      <td>บริหารจัดการเงินอุดหนุนนักเรียนทุนอย่างไรให้ยั่งยืน?</td>\n",
       "      <td><a href=\"https://www.eef.or.th/447-20/\" target=\"_blank\">https://www.eef.or.th/447-20/</a></td>\n",
       "      <td>Journal-033-การบริหารจัดการเงินอุดหนุนทุนเสมอภาค.pdf</td>\n",
       "    </tr>\n",
       "    <tr>\n",
       "      <th>11</th>\n",
       "      <td>แบ่งปัน แลกเปลี่ยน เรียนรู้ : เทคโนโลยีเพื่ออนาคต</td>\n",
       "      <td><a href=\"https://www.eef.or.th/446-20/\" target=\"_blank\">https://www.eef.or.th/446-20/</a></td>\n",
       "      <td>Journal-024-เทคโนโลยีเพื่ออนาคต.pdf</td>\n",
       "    </tr>\n",
       "    <tr>\n",
       "      <th>12</th>\n",
       "      <td>คู่มือโครงการจัดสรรเงินอุดหนุน ปี 2563 อปท.</td>\n",
       "      <td><a href=\"https://www.eef.or.th/120c/\" target=\"_blank\">https://www.eef.or.th/120c/</a></td>\n",
       "      <td>คู่มือโครงการจัดสรรเงินอุดหนุน-ปี-2563-อปท.pdf</td>\n",
       "    </tr>\n",
       "    <tr>\n",
       "      <th>13</th>\n",
       "      <td>คู่มือโครงการจัดสรรเงินอุดหนุน ปี 2563 สพฐ.</td>\n",
       "      <td><a href=\"https://www.eef.or.th/120b/\" target=\"_blank\">https://www.eef.or.th/120b/</a></td>\n",
       "      <td>คู่มือโครงการจัดสรรเงินอุดหนุน-ปี-2563-สพฐ.pdf</td>\n",
       "    </tr>\n",
       "    <tr>\n",
       "      <th>14</th>\n",
       "      <td>คู่มือโครงการจัดสรรเงินอุดหนุน ปี 2563 ตชด.</td>\n",
       "      <td><a href=\"https://www.eef.or.th/120a/\" target=\"_blank\">https://www.eef.or.th/120a/</a></td>\n",
       "      <td>คู่มือโครงการจัดสรรเงินอุดหนุน-ปี-2563-ตชด.pdf</td>\n",
       "    </tr>\n",
       "    <tr>\n",
       "      <th>15</th>\n",
       "      <td>คู่มือการใช้ระบบสารสนเทศ โครงการจัดสรรเงินอุดหนุนฯ 3 สังกัด</td>\n",
       "      <td><a href=\"https://www.eef.or.th/120-2/\" target=\"_blank\">https://www.eef.or.th/120-2/</a></td>\n",
       "      <td>คู่มือการใช้ระบบสารสนเทศ-โครงการจัดสรรเงินอุดหนุนฯ-3-สังกัด.pdf</td>\n",
       "    </tr>\n",
       "    <tr>\n",
       "      <th>16</th>\n",
       "      <td>จดหมายข่าวเสมอภาค ปีที่ 1 ฉบับที่ 1</td>\n",
       "      <td><a href=\"https://www.eef.or.th/newsletter-01/\" target=\"_blank\">https://www.eef.or.th/newsletter-01/</a></td>\n",
       "      <td>Newsletter-EFF-01.pdf</td>\n",
       "    </tr>\n",
       "    <tr>\n",
       "      <th>17</th>\n",
       "      <td>จดหมายข่าวแบ่งปันแลกเปลี่ยนเรียนรู้ ฉบับที่ 2</td>\n",
       "      <td><a href=\"https://www.eef.or.th/%e0%b8%88%e0%b8%94%e0%b8%ab%e0%b8%a1%e0%b8%b2%e0%b8%a2%e0%b8%82%e0%b9%88%e0%b8%b2%e0%b8%a7%e0%b9%81%e0%b8%9a%e0%b9%88%e0%b8%87%e0%b8%9b%e0%b8%b1%e0%b8%99%e0%b9%81%e0%b8%a5%e0%b8%81%e0%b9%80%e0%b8%9b-3/\" target=\"_blank\">https://www.eef.or.th/%e0%b8%88%e0%b8%94%e0%b8%ab%e0%b8%a1%e0%b8%b2%e0%b8%a2%e0%b8%82%e0%b9%88%e0%b8%b2%e0%b8%a7%e0%b9%81%e0%b8%9a%e0%b9%88%e0%b8%87%e0%b8%9b%e0%b8%b1%e0%b8%99%e0%b9%81%e0%b8%a5%e0%b8%81%e0%b9%80%e0%b8%9b-3/</a></td>\n",
       "      <td>จดหมายข่าวแบ่งปันแลกเปลี่ยนเรียนรู้ฉบับที่-2.pdf</td>\n",
       "    </tr>\n",
       "    <tr>\n",
       "      <th>18</th>\n",
       "      <td>จดหมายข่าวแบ่งปันแลกเปลี่ยนเรียนรู้ ฉบับที่ 1</td>\n",
       "      <td><a href=\"https://www.eef.or.th/%e0%b8%88%e0%b8%b8%e0%b8%a5%e0%b8%aa%e0%b8%b2%e0%b8%a3-eef-%e0%b8%89%e0%b8%9a%e0%b8%b1%e0%b8%9a%e0%b8%97%e0%b8%b5%e0%b9%88-1/\" target=\"_blank\">https://www.eef.or.th/%e0%b8%88%e0%b8%b8%e0%b8%a5%e0%b8%aa%e0%b8%b2%e0%b8%a3-eef-%e0%b8%89%e0%b8%9a%e0%b8%b1%e0%b8%9a%e0%b8%97%e0%b8%b5%e0%b9%88-1/</a></td>\n",
       "      <td>Booklet-EEF.-Issue-1-May-2019_Ver1.pdf</td>\n",
       "    </tr>\n",
       "    <tr>\n",
       "      <th>19</th>\n",
       "      <td>แนะนำหนังสือสูตรห้องเรียนสุขสนุกสอน (ปรุงรสด้วยมือครู)</td>\n",
       "      <td><a href=\"https://www.eef.or.th/%e0%b8%aa%e0%b8%b9%e0%b8%95%e0%b8%a3%e0%b8%ab%e0%b9%89%e0%b8%ad%e0%b8%87%e0%b9%80%e0%b8%a3%e0%b8%b5%e0%b8%a2%e0%b8%99%e0%b8%aa%e0%b8%b8%e0%b8%82/\" target=\"_blank\">https://www.eef.or.th/%e0%b8%aa%e0%b8%b9%e0%b8%95%e0%b8%a3%e0%b8%ab%e0%b9%89%e0%b8%ad%e0%b8%87%e0%b9%80%e0%b8%a3%e0%b8%b5%e0%b8%a2%e0%b8%99%e0%b8%aa%e0%b8%b8%e0%b8%82/</a></td>\n",
       "      <td>ปกหนังสือสูตรห้องเรียนสุขสนุกสอน-2.pdf</td>\n",
       "    </tr>\n",
       "  </tbody>\n",
       "</table>"
      ],
      "text/plain": [
       "<IPython.core.display.HTML object>"
      ]
     },
     "execution_count": 178,
     "metadata": {},
     "output_type": "execute_result"
    }
   ],
   "source": [
    "HTML(df.to_html(render_links=True, escape=False))"
   ]
  }
 ],
 "metadata": {
  "kernelspec": {
   "display_name": "ML",
   "language": "python",
   "name": "ml"
  },
  "language_info": {
   "codemirror_mode": {
    "name": "ipython",
    "version": 3
   },
   "file_extension": ".py",
   "mimetype": "text/x-python",
   "name": "python",
   "nbconvert_exporter": "python",
   "pygments_lexer": "ipython3",
   "version": "3.9.7"
  }
 },
 "nbformat": 4,
 "nbformat_minor": 5
}
