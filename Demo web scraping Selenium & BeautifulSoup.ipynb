{
 "cells": [
  {
   "cell_type": "markdown",
   "id": "13e60f17",
   "metadata": {},
   "source": [
    "# Demo web scraping"
   ]
  },
  {
   "cell_type": "markdown",
   "id": "89010f47",
   "metadata": {},
   "source": [
    "website : https://www.eef.or.th/"
   ]
  },
  {
   "cell_type": "markdown",
   "id": "c22fbe29",
   "metadata": {},
   "source": [
    "## Install package\n",
    "- Beautifulsoup (https://beautiful-soup-4.readthedocs.io/en/latest/)\n",
    "- Selenium Documentation (https://www.selenium.dev/documentation/)"
   ]
  },
  {
   "cell_type": "code",
   "execution_count": null,
   "id": "c383344c",
   "metadata": {},
   "outputs": [],
   "source": [
    "#!pip install beautifulsoup4"
   ]
  },
  {
   "cell_type": "code",
   "execution_count": null,
   "id": "349abacd",
   "metadata": {},
   "outputs": [],
   "source": [
    "#!pip install selenium"
   ]
  },
  {
   "cell_type": "markdown",
   "id": "8248ee6b",
   "metadata": {},
   "source": [
    "# Webdriver (Edge browser)\n",
    "- Download webdriver\n",
    "- Web driver (for Microsoft Edge browser : you can find by typing 'edge webdriver' in the google search)\n",
    "- or https://developer.microsoft.com/en-us/microsoft-edge/tools/webdriver/\n",
    "- check your version browser (Setting and more [Alt+F] --> Setting --> About microsoft edge)\n",
    "- dont forget to check your driver is in the correct directory"
   ]
  },
  {
   "cell_type": "code",
   "execution_count": 1,
   "id": "2c92c99f",
   "metadata": {},
   "outputs": [],
   "source": [
    "from selenium import webdriver\n",
    "from bs4 import BeautifulSoup\n",
    "from time import sleep\n",
    "import re\n",
    "import pandas as pd"
   ]
  },
  {
   "cell_type": "markdown",
   "id": "b3eb7ce5",
   "metadata": {},
   "source": [
    "# Setting Directory"
   ]
  },
  {
   "cell_type": "code",
   "execution_count": 2,
   "id": "d3e6e303",
   "metadata": {},
   "outputs": [
    {
     "name": "stdout",
     "output_type": "stream",
     "text": [
      "D:\\PUM works\\Year 3 Semester2\\Thainhf\\Web scraping\n"
     ]
    }
   ],
   "source": [
    "%cd D:\\PUM works\\Year 3 Semester2\\Thainhf\\Web scraping\n",
    "#Directory driver [%cd your directory]"
   ]
  },
  {
   "cell_type": "markdown",
   "id": "9cf7d06d",
   "metadata": {},
   "source": [
    "## Initialize webdriver with Selenium\n",
    "- (for Chrome) driver = webdriver.Chorme(executable_path='./chromedriver')\n",
    "- (for Firefox) driver = webdriver.Firefox(executable_path='./geckodriver')\n",
    "- (for Edge) driver = webdriver.Edge(executable_path='./msedgedriver')"
   ]
  },
  {
   "cell_type": "markdown",
   "id": "52b39511",
   "metadata": {},
   "source": [
    "<span style=\"color:red\"><b>*Note that you should download browser driver first before implement</b></span>"
   ]
  },
  {
   "cell_type": "code",
   "execution_count": null,
   "id": "0b3eb45e",
   "metadata": {},
   "outputs": [],
   "source": [
    "#driver = webdriver.Edge(executable_path='./msedgedriver')\n",
    "#driver.implicitly_wait(30)"
   ]
  },
  {
   "cell_type": "code",
   "execution_count": null,
   "id": "90765dfd",
   "metadata": {},
   "outputs": [],
   "source": [
    "#url = 'https://www.eef.or.th/'\n",
    "#driver.get(url)"
   ]
  },
  {
   "cell_type": "markdown",
   "id": "90adf086",
   "metadata": {},
   "source": [
    "## Setting driver with options to optimize function for web scraping"
   ]
  },
  {
   "cell_type": "code",
   "execution_count": 3,
   "id": "524c9f65",
   "metadata": {},
   "outputs": [
    {
     "data": {
      "text/plain": [
       "Timestamp('2022-03-12 18:02:41.048528')"
      ]
     },
     "execution_count": 3,
     "metadata": {},
     "output_type": "execute_result"
    }
   ],
   "source": [
    "pd.Timestamp.today() #Timestamp"
   ]
  },
  {
   "cell_type": "code",
   "execution_count": 4,
   "id": "e879efdb",
   "metadata": {},
   "outputs": [
    {
     "name": "stderr",
     "output_type": "stream",
     "text": [
      "C:\\Users\\66885\\AppData\\Local\\Temp/ipykernel_19172/469095184.py:12: DeprecationWarning: executable_path has been deprecated, please pass in a Service object\n",
      "  driver = webdriver.Edge(executable_path ='./msedgedriver',options=options)\n"
     ]
    }
   ],
   "source": [
    "options = webdriver.EdgeOptions()\n",
    "\n",
    "directory_download = 'D:\\\\PUM works\\\\Year 3 Semester2\\\\Thainhf\\\\Web scraping\\\\PDF' #Directory download files\n",
    "\n",
    "options.add_experimental_option('prefs',{\n",
    "    'download.default_directory': directory_download, #directory download pdf files\n",
    "    'download.prompt_for_download':False, #Automate download files\n",
    "    'download.directory_upgrade': True,\n",
    "    'plugins.always_open_pdf_externally': True #not show PDF directory in Edge browser\n",
    "})\n",
    "\n",
    "driver = webdriver.Edge(executable_path ='./msedgedriver',options=options)\n",
    "\n",
    "url = 'https://www.eef.or.th/category/publication/'\n",
    "driver.get(url)\n",
    "driver.implicitly_wait(30)\n"
   ]
  },
  {
   "cell_type": "markdown",
   "id": "5a382ddb",
   "metadata": {},
   "source": [
    "## Web crawling"
   ]
  },
  {
   "cell_type": "code",
   "execution_count": 10,
   "id": "060f8c1f",
   "metadata": {},
   "outputs": [
    {
     "name": "stderr",
     "output_type": "stream",
     "text": [
      "C:\\Users\\66885\\AppData\\Local\\Temp/ipykernel_19172/3682005219.py:1: DeprecationWarning: find_element_by_xpath is deprecated. Please use find_element(by=By.XPATH, value=xpath) instead\n",
      "  next_page = driver.find_element_by_xpath('//a[@class=\"page-numbers\"]') # Next page element\n"
     ]
    }
   ],
   "source": [
    "next_page = driver.find_element_by_xpath('//a[@class=\"page-numbers\"]') # Next page element\n",
    "next_page.click() "
   ]
  },
  {
   "cell_type": "code",
   "execution_count": 41,
   "id": "54f5b7b7",
   "metadata": {},
   "outputs": [
    {
     "data": {
      "text/plain": [
       "'https://www.eef.or.th/teachereef-110322/'"
      ]
     },
     "execution_count": 41,
     "metadata": {},
     "output_type": "execute_result"
    }
   ],
   "source": [
    "article = soup.select('article > div[class=\"pic\"] > a[href]')"
   ]
  },
  {
   "cell_type": "code",
   "execution_count": 21,
   "id": "851069a1",
   "metadata": {},
   "outputs": [
    {
     "name": "stdout",
     "output_type": "stream",
     "text": [
      "https://www.eef.or.th/publication-abe-0322/\n",
      "https://www.eef.or.th/070122/\n",
      "https://www.eef.or.th/publication-play-to-take-care-of-children-minds/\n",
      "https://www.eef.or.th/publication-vaccines-have-arrived/\n",
      "https://www.eef.or.th/publication-01-21/\n",
      "https://www.eef.or.th/publication-08-06-20/\n",
      "https://www.eef.or.th/publication-12-20/\n",
      "https://www.eef.or.th/publication-11-20/\n",
      "https://www.eef.or.th/449-20/\n",
      "https://www.eef.or.th/448-20/\n"
     ]
    },
    {
     "name": "stderr",
     "output_type": "stream",
     "text": [
      "C:\\Users\\66885\\AppData\\Local\\Temp/ipykernel_19172/3405621107.py:11: DeprecationWarning: find_element_by_xpath is deprecated. Please use find_element(by=By.XPATH, value=xpath) instead\n",
      "  next_page = driver.find_element_by_xpath('//a[@class=\"page-numbers\"]')\n"
     ]
    },
    {
     "name": "stdout",
     "output_type": "stream",
     "text": [
      "https://www.eef.or.th/447-20/\n",
      "https://www.eef.or.th/446-20/\n",
      "https://www.eef.or.th/120c/\n",
      "https://www.eef.or.th/120b/\n",
      "https://www.eef.or.th/120a/\n",
      "https://www.eef.or.th/120-2/\n",
      "https://www.eef.or.th/newsletter-01/\n",
      "https://www.eef.or.th/%e0%b8%88%e0%b8%94%e0%b8%ab%e0%b8%a1%e0%b8%b2%e0%b8%a2%e0%b8%82%e0%b9%88%e0%b8%b2%e0%b8%a7%e0%b9%81%e0%b8%9a%e0%b9%88%e0%b8%87%e0%b8%9b%e0%b8%b1%e0%b8%99%e0%b9%81%e0%b8%a5%e0%b8%81%e0%b9%80%e0%b8%9b-3/\n",
      "https://www.eef.or.th/%e0%b8%88%e0%b8%b8%e0%b8%a5%e0%b8%aa%e0%b8%b2%e0%b8%a3-eef-%e0%b8%89%e0%b8%9a%e0%b8%b1%e0%b8%9a%e0%b8%97%e0%b8%b5%e0%b9%88-1/\n",
      "https://www.eef.or.th/%e0%b8%aa%e0%b8%b9%e0%b8%95%e0%b8%a3%e0%b8%ab%e0%b9%89%e0%b8%ad%e0%b8%87%e0%b9%80%e0%b8%a3%e0%b8%b5%e0%b8%a2%e0%b8%99%e0%b8%aa%e0%b8%b8%e0%b8%82/\n"
     ]
    }
   ],
   "source": [
    "urls_index = list()\n",
    "#permalinks = list()\n",
    "for i in range(2): # determine number of pages by observing \n",
    "    #get elements\n",
    "    soup = BeautifulSoup(driver.page_source,'html.parser')\n",
    "    article = soup.select('article > div[class=\"pic\"] > a[href]')\n",
    "    for i in range (len(article)):\n",
    "        print(article[i]['href'])\n",
    "        urls_index.append(article[i]['href'])\n",
    "    \n",
    "    next_page = driver.find_element_by_xpath('//a[@class=\"page-numbers\"]')\n",
    "    next_page.click()\n",
    "    \n",
    "url_main = 'https://www.eef.or.th/category/publication/'\n",
    "driver.get(url_main)"
   ]
  },
  {
   "cell_type": "code",
   "execution_count": 16,
   "id": "15d17b96",
   "metadata": {},
   "outputs": [
    {
     "data": {
      "text/plain": [
       "20"
      ]
     },
     "execution_count": 16,
     "metadata": {},
     "output_type": "execute_result"
    }
   ],
   "source": [
    "len(urls_index)"
   ]
  },
  {
   "cell_type": "markdown",
   "id": "4db0dfdd",
   "metadata": {},
   "source": [
    "## Finding pattern .pdf files"
   ]
  },
  {
   "cell_type": "code",
   "execution_count": 56,
   "id": "8c3ef97e",
   "metadata": {
    "scrolled": true
   },
   "outputs": [
    {
     "data": {
      "text/plain": [
       "'https://www.eef.or.th/wp-content/uploads/2020/11/Journal-052-เงื่อนไขสำคัญของนักเรียนทุนเสมอภาค.pdf'"
      ]
     },
     "execution_count": 56,
     "metadata": {},
     "output_type": "execute_result"
    }
   ],
   "source": [
    "soup = BeautifulSoup(driver.page_source,\"html.parser\")\n",
    "download = soup.select('div[class=\"btn-download\"] > a')\n",
    "download[0]['href']"
   ]
  },
  {
   "cell_type": "code",
   "execution_count": 57,
   "id": "4e4712fc",
   "metadata": {},
   "outputs": [
    {
     "data": {
      "text/plain": [
       "<re.Match object; span=(48, 99), match='/Journal-052-เงื่อนไขสำคัญของนักเรียนทุนเสมอภาค.p>"
      ]
     },
     "execution_count": 57,
     "metadata": {},
     "output_type": "execute_result"
    }
   ],
   "source": [
    "re.search(r'/[_a-zA-z0-9ก-๙ -]+[_a-zA-z0-9ก-๙ -]+[_a-zA-z0-9ก-๙ -]+\\.(pdf)',download[0]['href'])"
   ]
  },
  {
   "cell_type": "code",
   "execution_count": 58,
   "id": "48c1a2b0",
   "metadata": {},
   "outputs": [
    {
     "name": "stdout",
     "output_type": "stream",
     "text": [
      "/Journal-052-เงื่อนไขสำคัญของนักเรียนทุนเสมอภาค.pdf\n"
     ]
    }
   ],
   "source": [
    "pdf_name = re.compile(r'/[_a-zA-z0-9ก-๙ -]+[_a-zA-z0-9ก-๙ -]+[_a-zA-z0-9ก-๙ -]+\\.(pdf)')\n",
    "matches = pdf_name.finditer(download[0]['href'])\n",
    "for m in matches:\n",
    "    print(m.group())"
   ]
  },
  {
   "cell_type": "code",
   "execution_count": 102,
   "id": "4024763c",
   "metadata": {},
   "outputs": [],
   "source": [
    "#re.search(r'/[a-zA-z0-9]+[_a-zA-Z0-9 -]+[_a-zA-z0-9ก-๙ -]+\\.(pdf)',download[0]['href'])"
   ]
  },
  {
   "cell_type": "code",
   "execution_count": 87,
   "id": "07b2ad7b",
   "metadata": {},
   "outputs": [],
   "source": [
    "#re.search(r'/[a-zA-z0-9]+[_a-zA-Z0-9 -]+\\.(pdf)',download[0]['href'])"
   ]
  },
  {
   "cell_type": "code",
   "execution_count": 78,
   "id": "5dd01164",
   "metadata": {
    "scrolled": true
   },
   "outputs": [
    {
     "data": {
      "text/plain": [
       "<re.Match object; span=(61, 95), match='เงื่อนไขสำคัญของนักเรียนทุนเสมอภาค'>"
      ]
     },
     "execution_count": 78,
     "metadata": {},
     "output_type": "execute_result"
    }
   ],
   "source": [
    "#re.search(r'[ก-๙]+',download[0]['href'])"
   ]
  },
  {
   "cell_type": "markdown",
   "id": "a92a27f6",
   "metadata": {},
   "source": [
    "## cleansing"
   ]
  },
  {
   "cell_type": "code",
   "execution_count": 59,
   "id": "b6995b07",
   "metadata": {},
   "outputs": [
    {
     "data": {
      "text/plain": [
       "'2021_thai_edu_lay_2019version_edit_web.pdf'"
      ]
     },
     "execution_count": 59,
     "metadata": {},
     "output_type": "execute_result"
    }
   ],
   "source": [
    "text = '/2021_thai_edu_lay_2019version_edit_web.pdf'\n",
    "text.replace('/','')"
   ]
  },
  {
   "cell_type": "markdown",
   "id": "2ef39fe1",
   "metadata": {},
   "source": [
    "## Web scraping : Download PDF files"
   ]
  },
  {
   "cell_type": "markdown",
   "id": "81d5caa2",
   "metadata": {},
   "source": [
    "## Test"
   ]
  },
  {
   "cell_type": "code",
   "execution_count": 20,
   "id": "3192e766",
   "metadata": {},
   "outputs": [
    {
     "data": {
      "text/plain": [
       "0"
      ]
     },
     "execution_count": 20,
     "metadata": {},
     "output_type": "execute_result"
    }
   ],
   "source": [
    "soup = BeautifulSoup(driver.page_source,'html.parser')\n",
    "downlad = soup.select('div[class=\"btn-download\"]') #"
   ]
  },
  {
   "cell_type": "code",
   "execution_count": 145,
   "id": "46bfad93",
   "metadata": {
    "scrolled": true
   },
   "outputs": [
    {
     "data": {
      "text/plain": [
       "'https://www.eef.or.th/wp-content/uploads/2019/05/Booklet-EEF.-Issue-1-May-2019_Ver1.pdf'"
      ]
     },
     "execution_count": 145,
     "metadata": {},
     "output_type": "execute_result"
    }
   ],
   "source": [
    "soup = BeautifulSoup(driver.page_source,\"html.parser\")\n",
    "download = soup.select('div[class=\"btn-download\"] > a')\n",
    "download[0]['href']"
   ]
  },
  {
   "cell_type": "code",
   "execution_count": 146,
   "id": "16af0648",
   "metadata": {},
   "outputs": [
    {
     "name": "stdout",
     "output_type": "stream",
     "text": [
      "/Booklet-EEF.-Issue-1-May-2019_Ver1.pdf\n"
     ]
    }
   ],
   "source": [
    "acc = list()\n",
    "pdf_name = re.compile(r'/[_a-zA-z0-9ก-๙ -.]+[_a-zA-z0-9ก-๙ -.]+[_a-zA-z0-9ก-๙ -.]+\\.(pdf)')\n",
    "matches = pdf_name.finditer(download[0]['href'])\n",
    "for m in matches:\n",
    "    print(m.group())\n",
    "    #acc.append(m.group())"
   ]
  },
  {
   "cell_type": "code",
   "execution_count": 143,
   "id": "68eef494",
   "metadata": {},
   "outputs": [],
   "source": [
    "acc = list()\n",
    "pdf_name = re.compile(r'/[_a-zA-z0-9ก-๙ -]+[_a-zA-z0-9ก-๙ -]+[_a-zA-z0-9ก-๙ -]+\\.(pdf)')\n",
    "matches = pdf_name.finditer(download[0]['href'])\n",
    "for m in matches:\n",
    "    print(m.group())\n",
    "    #acc.append(m.group())"
   ]
  },
  {
   "cell_type": "code",
   "execution_count": 44,
   "id": "53d54478",
   "metadata": {},
   "outputs": [
    {
     "data": {
      "text/plain": [
       "['https://www.eef.or.th/publication-abe-0322/',\n",
       " 'https://www.eef.or.th/070122/',\n",
       " 'https://www.eef.or.th/publication-play-to-take-care-of-children-minds/',\n",
       " 'https://www.eef.or.th/publication-vaccines-have-arrived/',\n",
       " 'https://www.eef.or.th/publication-01-21/']"
      ]
     },
     "execution_count": 44,
     "metadata": {},
     "output_type": "execute_result"
    }
   ],
   "source": [
    "urls_index[0:5]"
   ]
  },
  {
   "cell_type": "code",
   "execution_count": 28,
   "id": "a2b2c145",
   "metadata": {},
   "outputs": [
    {
     "name": "stdout",
     "output_type": "stream",
     "text": [
      "2021_thai_edu_lay_2019version_edit_web.pdf\n",
      "None of pdf file\n",
      "savekidscovid-19_e-book.pdf\n",
      "วัคซีนมาแล้ว-สร้างภูมิคุ้มกันหมู่ด้วยวัค.pdf\n",
      "CCT_Community_Final_20210225.pdf\n",
      "None of pdf file\n",
      "CCT_Community_2-2.pdf\n",
      "CCT_Community_1-2.pdf\n",
      "Journal-052-เงื่อนไขสำคัญของนักเรียนทุนเสมอภาค.pdf\n",
      "Journal-04-ทักษะชีวิต-ทักษะอาชีพ.pdf\n",
      "Journal-033-การบริหารจัดการเงินอุดหนุนทุนเสมอภาค.pdf\n",
      "Journal-024-เทคโนโลยีเพื่ออนาคต.pdf\n",
      "คู่มือโครงการจัดสรรเงินอุดหนุน-ปี-2563-อปท.pdf\n",
      "คู่มือโครงการจัดสรรเงินอุดหนุน-ปี-2563-สพฐ.pdf\n",
      "คู่มือโครงการจัดสรรเงินอุดหนุน-ปี-2563-ตชด.pdf\n",
      "คู่มือการใช้ระบบสารสนเทศ-โครงการจัดสรรเงินอุดหนุนฯ-3-สังกัด.pdf\n",
      "Newsletter-EFF-01.pdf\n",
      "จดหมายข่าวแบ่งปันแลกเปลี่ยนเรียนรู้ฉบับที่-2.pdf\n",
      "Booklet-EEF.-Issue-1-May-2019_Ver1.pdf\n",
      "ปกหนังสือสูตรห้องเรียนสุขสนุกสอน-2.pdf\n"
     ]
    }
   ],
   "source": [
    "pdf_name_pattern = re.compile(r'/[_a-zA-z0-9ก-๙ -.]+[_a-zA-z0-9ก-๙ -.]+[_a-zA-z0-9ก-๙ -.]+\\.(pdf)')\n",
    "\n",
    "pdf_name = list()\n",
    "name = list()\n",
    "pdf_urls = list()\n",
    "timestamp = list()\n",
    "\n",
    "for i in urls_index:\n",
    "    driver.get(i)\n",
    "    sleep(0.05)\n",
    "    soup = BeautifulSoup(driver.page_source,'html.parser')\n",
    "    title = soup.select('div.title')\n",
    "    name.append(title[0].get_text())\n",
    "    download = soup.select('div[class=\"btn-download\"] > a')\n",
    "    \n",
    "    if len(download) != 0:\n",
    "        #load = driver.find_element_by_xpath('//div[@class=\"btn-download\"]')\n",
    "        #load.click()\n",
    "        timestamp.append(str(pd.Timestamp.today()))\n",
    "        #download = soup.select('div[class=\"btn-download\"] > a')\n",
    "        pdf_urls.append(download[0]['href'])\n",
    "        matches = pdf_name_pattern.finditer(download[0]['href'])\n",
    "        for text in matches:\n",
    "            #print(text.group())\n",
    "            text = text.group()\n",
    "            text = text.replace('/','')\n",
    "            print(text)\n",
    "            pdf_name.append(text)\n",
    "        #load.click()\n",
    "    else:\n",
    "        print('None of pdf file')\n",
    "        timestamp.append(str(pd.Timestamp.today()))\n",
    "        pdf_name.append('None of pdf file')\n",
    "        pdf_urls.append('None of url pdf file')\n",
    "        continue\n",
    "        \n",
    "#Back to main category publication page\n",
    "url_main = 'https://www.eef.or.th/category/publication/'\n",
    "driver.get(url_main)"
   ]
  },
  {
   "cell_type": "code",
   "execution_count": 29,
   "id": "e752160d",
   "metadata": {},
   "outputs": [
    {
     "data": {
      "text/plain": [
       "20"
      ]
     },
     "execution_count": 29,
     "metadata": {},
     "output_type": "execute_result"
    }
   ],
   "source": [
    "len(pdf_urls)"
   ]
  },
  {
   "cell_type": "code",
   "execution_count": 30,
   "id": "154c6475",
   "metadata": {},
   "outputs": [
    {
     "data": {
      "text/plain": [
       "['https://www.eef.or.th/wp-content/uploads/2022/03/2021_thai_edu_lay_2019version_edit_web.pdf',\n",
       " 'None of url pdf file',\n",
       " 'https://www.eef.or.th/wp-content/uploads/2021/09/savekidscovid-19_e-book.pdf',\n",
       " 'https://www.eef.or.th/wp-content/uploads/2021/09/วัคซีนมาแล้ว-สร้างภูมิคุ้มกันหมู่ด้วยวัค.pdf',\n",
       " 'https://www.eef.or.th/wp-content/uploads/2021/02/CCT_Community_Final_20210225.pdf']"
      ]
     },
     "execution_count": 30,
     "metadata": {},
     "output_type": "execute_result"
    }
   ],
   "source": [
    "pdf_urls[0:5]"
   ]
  },
  {
   "cell_type": "code",
   "execution_count": 189,
   "id": "429ca596",
   "metadata": {},
   "outputs": [
    {
     "data": {
      "text/plain": [
       "['2021_thai_edu_lay_2019version_edit_web.pdf',\n",
       " 'None of pdf file',\n",
       " 'savekidscovid-19_e-book.pdf',\n",
       " 'วัคซีนมาแล้ว-สร้างภูมิคุ้มกันหมู่ด้วยวัค.pdf',\n",
       " 'CCT_Community_Final_20210225.pdf']"
      ]
     },
     "execution_count": 189,
     "metadata": {},
     "output_type": "execute_result"
    }
   ],
   "source": [
    "pdf_name[0:5]"
   ]
  },
  {
   "cell_type": "code",
   "execution_count": 190,
   "id": "a9311df9",
   "metadata": {},
   "outputs": [
    {
     "data": {
      "text/plain": [
       "20"
      ]
     },
     "execution_count": 190,
     "metadata": {},
     "output_type": "execute_result"
    }
   ],
   "source": [
    "len(pdf_name)"
   ]
  },
  {
   "cell_type": "code",
   "execution_count": 191,
   "id": "c34dd786",
   "metadata": {},
   "outputs": [
    {
     "data": {
      "text/plain": [
       "20"
      ]
     },
     "execution_count": 191,
     "metadata": {},
     "output_type": "execute_result"
    }
   ],
   "source": [
    "len(name)"
   ]
  },
  {
   "cell_type": "code",
   "execution_count": 192,
   "id": "1dd23fec",
   "metadata": {},
   "outputs": [
    {
     "data": {
      "text/plain": [
       "18"
      ]
     },
     "execution_count": 192,
     "metadata": {},
     "output_type": "execute_result"
    }
   ],
   "source": [
    "len(timestamp)"
   ]
  },
  {
   "cell_type": "code",
   "execution_count": 174,
   "id": "a61353a5",
   "metadata": {},
   "outputs": [
    {
     "data": {
      "text/plain": [
       "['การจัดการศึกษาเชิงพื้นที่เพื่อลดความเหลื่อมล้ำ',\n",
       " 'ศูนย์ช่วยเหลือเด็กและเยาวชน ในภาวะวิกฤตทางการศึกษา',\n",
       " '“การเล่น” เพื่อดูแลจิตใจเด็กๆ ที่เผชิญความสูญเสีย',\n",
       " 'วัคซีนมาแล้ว สร้างภูมิคุ้มกันหมู่ด้วยวัคซีนสู้โควิด-19',\n",
       " 'COMMUNITY ชุมชนร่วมสร้างความเสมอภาคทางการศึกษา ฉบับที่ 3']"
      ]
     },
     "execution_count": 174,
     "metadata": {},
     "output_type": "execute_result"
    }
   ],
   "source": [
    "name[0:5]"
   ]
  },
  {
   "cell_type": "code",
   "execution_count": 32,
   "id": "bf321d66",
   "metadata": {},
   "outputs": [],
   "source": [
    "df = pd.DataFrame({\"ชื่อสิ่งพิมพ์\":name,\"Url\":pdf_urls,\"ชื่อไฟล์ PDF\":pdf_name,\"Timestamp\":timestamp})"
   ]
  },
  {
   "cell_type": "code",
   "execution_count": 61,
   "id": "19a17f9e",
   "metadata": {},
   "outputs": [
    {
     "data": {
      "text/html": [
       "<div>\n",
       "<style scoped>\n",
       "    .dataframe tbody tr th:only-of-type {\n",
       "        vertical-align: middle;\n",
       "    }\n",
       "\n",
       "    .dataframe tbody tr th {\n",
       "        vertical-align: top;\n",
       "    }\n",
       "\n",
       "    .dataframe thead th {\n",
       "        text-align: right;\n",
       "    }\n",
       "</style>\n",
       "<table border=\"1\" class=\"dataframe\">\n",
       "  <thead>\n",
       "    <tr style=\"text-align: right;\">\n",
       "      <th></th>\n",
       "      <th>ชื่อสิ่งพิมพ์</th>\n",
       "      <th>Url</th>\n",
       "      <th>ชื่อไฟล์ PDF</th>\n",
       "      <th>Timestamp</th>\n",
       "    </tr>\n",
       "  </thead>\n",
       "  <tbody>\n",
       "    <tr>\n",
       "      <th>0</th>\n",
       "      <td>การจัดการศึกษาเชิงพื้นที่เพื่อลดความเหลื่อมล้ำ</td>\n",
       "      <td>https://www.eef.or.th/wp-content/uploads/2022/...</td>\n",
       "      <td>2021_thai_edu_lay_2019version_edit_web.pdf</td>\n",
       "      <td>2022-03-12 18:14:36.454434</td>\n",
       "    </tr>\n",
       "    <tr>\n",
       "      <th>1</th>\n",
       "      <td>ศูนย์ช่วยเหลือเด็กและเยาวชน ในภาวะวิกฤตทางการศ...</td>\n",
       "      <td>None of url pdf file</td>\n",
       "      <td>None of pdf file</td>\n",
       "      <td>2022-03-12 18:14:37.385282</td>\n",
       "    </tr>\n",
       "    <tr>\n",
       "      <th>2</th>\n",
       "      <td>“การเล่น” เพื่อดูแลจิตใจเด็กๆ ที่เผชิญความสูญเสีย</td>\n",
       "      <td>https://www.eef.or.th/wp-content/uploads/2021/...</td>\n",
       "      <td>savekidscovid-19_e-book.pdf</td>\n",
       "      <td>2022-03-12 18:14:38.505475</td>\n",
       "    </tr>\n",
       "    <tr>\n",
       "      <th>3</th>\n",
       "      <td>วัคซีนมาแล้ว สร้างภูมิคุ้มกันหมู่ด้วยวัคซีนสู้...</td>\n",
       "      <td>https://www.eef.or.th/wp-content/uploads/2021/...</td>\n",
       "      <td>วัคซีนมาแล้ว-สร้างภูมิคุ้มกันหมู่ด้วยวัค.pdf</td>\n",
       "      <td>2022-03-12 18:14:39.425908</td>\n",
       "    </tr>\n",
       "    <tr>\n",
       "      <th>4</th>\n",
       "      <td>COMMUNITY ชุมชนร่วมสร้างความเสมอภาคทางการศึกษา...</td>\n",
       "      <td>https://www.eef.or.th/wp-content/uploads/2021/...</td>\n",
       "      <td>CCT_Community_Final_20210225.pdf</td>\n",
       "      <td>2022-03-12 18:14:40.328533</td>\n",
       "    </tr>\n",
       "    <tr>\n",
       "      <th>5</th>\n",
       "      <td>สรุปการประชุมเวทีนวัตกรรมท้องถิ่นร่วมสร้างความ...</td>\n",
       "      <td>None of url pdf file</td>\n",
       "      <td>None of pdf file</td>\n",
       "      <td>2022-03-12 18:14:41.368526</td>\n",
       "    </tr>\n",
       "    <tr>\n",
       "      <th>6</th>\n",
       "      <td>COMMUNITY ชุมชนร่วมสร้างความเสมอภาคทางการศึกษา...</td>\n",
       "      <td>https://www.eef.or.th/wp-content/uploads/2021/...</td>\n",
       "      <td>CCT_Community_2-2.pdf</td>\n",
       "      <td>2022-03-12 18:14:42.266342</td>\n",
       "    </tr>\n",
       "    <tr>\n",
       "      <th>7</th>\n",
       "      <td>COMMUNITY ชุมชนร่วมสร้างความเสมอภาคทางการศึกษา...</td>\n",
       "      <td>https://www.eef.or.th/wp-content/uploads/2021/...</td>\n",
       "      <td>CCT_Community_1-2.pdf</td>\n",
       "      <td>2022-03-12 18:14:43.111239</td>\n",
       "    </tr>\n",
       "    <tr>\n",
       "      <th>8</th>\n",
       "      <td>เงื่อนไขสำคัญของนักเรียนทุนเสมอภาค</td>\n",
       "      <td>https://www.eef.or.th/wp-content/uploads/2020/...</td>\n",
       "      <td>Journal-052-เงื่อนไขสำคัญของนักเรียนทุนเสมอภาค...</td>\n",
       "      <td>2022-03-12 18:14:44.045087</td>\n",
       "    </tr>\n",
       "    <tr>\n",
       "      <th>9</th>\n",
       "      <td>ทักษะชีวิต ทักษะอาชีพ</td>\n",
       "      <td>https://www.eef.or.th/wp-content/uploads/2020/...</td>\n",
       "      <td>Journal-04-ทักษะชีวิต-ทักษะอาชีพ.pdf</td>\n",
       "      <td>2022-03-12 18:14:45.049462</td>\n",
       "    </tr>\n",
       "  </tbody>\n",
       "</table>\n",
       "</div>"
      ],
      "text/plain": [
       "                                       ชื่อสิ่งพิมพ์  \\\n",
       "0     การจัดการศึกษาเชิงพื้นที่เพื่อลดความเหลื่อมล้ำ   \n",
       "1  ศูนย์ช่วยเหลือเด็กและเยาวชน ในภาวะวิกฤตทางการศ...   \n",
       "2  “การเล่น” เพื่อดูแลจิตใจเด็กๆ ที่เผชิญความสูญเสีย   \n",
       "3  วัคซีนมาแล้ว สร้างภูมิคุ้มกันหมู่ด้วยวัคซีนสู้...   \n",
       "4  COMMUNITY ชุมชนร่วมสร้างความเสมอภาคทางการศึกษา...   \n",
       "5  สรุปการประชุมเวทีนวัตกรรมท้องถิ่นร่วมสร้างความ...   \n",
       "6  COMMUNITY ชุมชนร่วมสร้างความเสมอภาคทางการศึกษา...   \n",
       "7  COMMUNITY ชุมชนร่วมสร้างความเสมอภาคทางการศึกษา...   \n",
       "8                 เงื่อนไขสำคัญของนักเรียนทุนเสมอภาค   \n",
       "9                              ทักษะชีวิต ทักษะอาชีพ   \n",
       "\n",
       "                                                 Url  \\\n",
       "0  https://www.eef.or.th/wp-content/uploads/2022/...   \n",
       "1                               None of url pdf file   \n",
       "2  https://www.eef.or.th/wp-content/uploads/2021/...   \n",
       "3  https://www.eef.or.th/wp-content/uploads/2021/...   \n",
       "4  https://www.eef.or.th/wp-content/uploads/2021/...   \n",
       "5                               None of url pdf file   \n",
       "6  https://www.eef.or.th/wp-content/uploads/2021/...   \n",
       "7  https://www.eef.or.th/wp-content/uploads/2021/...   \n",
       "8  https://www.eef.or.th/wp-content/uploads/2020/...   \n",
       "9  https://www.eef.or.th/wp-content/uploads/2020/...   \n",
       "\n",
       "                                        ชื่อไฟล์ PDF  \\\n",
       "0         2021_thai_edu_lay_2019version_edit_web.pdf   \n",
       "1                                   None of pdf file   \n",
       "2                        savekidscovid-19_e-book.pdf   \n",
       "3       วัคซีนมาแล้ว-สร้างภูมิคุ้มกันหมู่ด้วยวัค.pdf   \n",
       "4                   CCT_Community_Final_20210225.pdf   \n",
       "5                                   None of pdf file   \n",
       "6                              CCT_Community_2-2.pdf   \n",
       "7                              CCT_Community_1-2.pdf   \n",
       "8  Journal-052-เงื่อนไขสำคัญของนักเรียนทุนเสมอภาค...   \n",
       "9               Journal-04-ทักษะชีวิต-ทักษะอาชีพ.pdf   \n",
       "\n",
       "                    Timestamp  \n",
       "0  2022-03-12 18:14:36.454434  \n",
       "1  2022-03-12 18:14:37.385282  \n",
       "2  2022-03-12 18:14:38.505475  \n",
       "3  2022-03-12 18:14:39.425908  \n",
       "4  2022-03-12 18:14:40.328533  \n",
       "5  2022-03-12 18:14:41.368526  \n",
       "6  2022-03-12 18:14:42.266342  \n",
       "7  2022-03-12 18:14:43.111239  \n",
       "8  2022-03-12 18:14:44.045087  \n",
       "9  2022-03-12 18:14:45.049462  "
      ]
     },
     "execution_count": 61,
     "metadata": {},
     "output_type": "execute_result"
    }
   ],
   "source": [
    "df[0:10]"
   ]
  },
  {
   "cell_type": "markdown",
   "id": "0cf1776d",
   "metadata": {},
   "source": [
    "## Pandas Hyperlinks"
   ]
  },
  {
   "cell_type": "code",
   "execution_count": 34,
   "id": "6dcab17e",
   "metadata": {},
   "outputs": [],
   "source": [
    "from IPython.display import HTML"
   ]
  },
  {
   "cell_type": "code",
   "execution_count": 35,
   "id": "6cf7f304",
   "metadata": {},
   "outputs": [
    {
     "data": {
      "text/html": [
       "<table border=\"1\" class=\"dataframe\">\n",
       "  <thead>\n",
       "    <tr style=\"text-align: right;\">\n",
       "      <th></th>\n",
       "      <th>ชื่อสิ่งพิมพ์</th>\n",
       "      <th>Url</th>\n",
       "      <th>ชื่อไฟล์ PDF</th>\n",
       "      <th>Timestamp</th>\n",
       "    </tr>\n",
       "  </thead>\n",
       "  <tbody>\n",
       "    <tr>\n",
       "      <th>0</th>\n",
       "      <td>การจัดการศึกษาเชิงพื้นที่เพื่อลดความเหลื่อมล้ำ</td>\n",
       "      <td><a href=\"https://www.eef.or.th/wp-content/uploads/2022/03/2021_thai_edu_lay_2019version_edit_web.pdf\" target=\"_blank\">https://www.eef.or.th/wp-content/uploads/2022/03/2021_thai_edu_lay_2019version_edit_web.pdf</a></td>\n",
       "      <td>2021_thai_edu_lay_2019version_edit_web.pdf</td>\n",
       "      <td>2022-03-12 18:14:36.454434</td>\n",
       "    </tr>\n",
       "    <tr>\n",
       "      <th>1</th>\n",
       "      <td>ศูนย์ช่วยเหลือเด็กและเยาวชน ในภาวะวิกฤตทางการศึกษา</td>\n",
       "      <td>None of url pdf file</td>\n",
       "      <td>None of pdf file</td>\n",
       "      <td>2022-03-12 18:14:37.385282</td>\n",
       "    </tr>\n",
       "    <tr>\n",
       "      <th>2</th>\n",
       "      <td>“การเล่น” เพื่อดูแลจิตใจเด็กๆ ที่เผชิญความสูญเสีย</td>\n",
       "      <td><a href=\"https://www.eef.or.th/wp-content/uploads/2021/09/savekidscovid-19_e-book.pdf\" target=\"_blank\">https://www.eef.or.th/wp-content/uploads/2021/09/savekidscovid-19_e-book.pdf</a></td>\n",
       "      <td>savekidscovid-19_e-book.pdf</td>\n",
       "      <td>2022-03-12 18:14:38.505475</td>\n",
       "    </tr>\n",
       "    <tr>\n",
       "      <th>3</th>\n",
       "      <td>วัคซีนมาแล้ว สร้างภูมิคุ้มกันหมู่ด้วยวัคซีนสู้โควิด-19</td>\n",
       "      <td><a href=\"https://www.eef.or.th/wp-content/uploads/2021/09/วัคซีนมาแล้ว-สร้างภูมิคุ้มกันหมู่ด้วยวัค.pdf\" target=\"_blank\">https://www.eef.or.th/wp-content/uploads/2021/09/วัคซีนมาแล้ว-สร้างภูมิคุ้มกันหมู่ด้วยวัค.pdf</a></td>\n",
       "      <td>วัคซีนมาแล้ว-สร้างภูมิคุ้มกันหมู่ด้วยวัค.pdf</td>\n",
       "      <td>2022-03-12 18:14:39.425908</td>\n",
       "    </tr>\n",
       "    <tr>\n",
       "      <th>4</th>\n",
       "      <td>COMMUNITY ชุมชนร่วมสร้างความเสมอภาคทางการศึกษา ฉบับที่ 3</td>\n",
       "      <td><a href=\"https://www.eef.or.th/wp-content/uploads/2021/02/CCT_Community_Final_20210225.pdf\" target=\"_blank\">https://www.eef.or.th/wp-content/uploads/2021/02/CCT_Community_Final_20210225.pdf</a></td>\n",
       "      <td>CCT_Community_Final_20210225.pdf</td>\n",
       "      <td>2022-03-12 18:14:40.328533</td>\n",
       "    </tr>\n",
       "    <tr>\n",
       "      <th>5</th>\n",
       "      <td>สรุปการประชุมเวทีนวัตกรรมท้องถิ่นร่วมสร้างความเสมอภาคทางการศึกษา วันที่ 8 มิ.ย. 2563</td>\n",
       "      <td>None of url pdf file</td>\n",
       "      <td>None of pdf file</td>\n",
       "      <td>2022-03-12 18:14:41.368526</td>\n",
       "    </tr>\n",
       "    <tr>\n",
       "      <th>6</th>\n",
       "      <td>COMMUNITY ชุมชนร่วมสร้างความเสมอภาคทางการศึกษา ฉบับที่ 2</td>\n",
       "      <td><a href=\"https://www.eef.or.th/wp-content/uploads/2021/04/CCT_Community_2-2.pdf\" target=\"_blank\">https://www.eef.or.th/wp-content/uploads/2021/04/CCT_Community_2-2.pdf</a></td>\n",
       "      <td>CCT_Community_2-2.pdf</td>\n",
       "      <td>2022-03-12 18:14:42.266342</td>\n",
       "    </tr>\n",
       "    <tr>\n",
       "      <th>7</th>\n",
       "      <td>COMMUNITY ชุมชนร่วมสร้างความเสมอภาคทางการศึกษา ฉบับที่ 1</td>\n",
       "      <td><a href=\"https://www.eef.or.th/wp-content/uploads/2021/04/CCT_Community_1-2.pdf\" target=\"_blank\">https://www.eef.or.th/wp-content/uploads/2021/04/CCT_Community_1-2.pdf</a></td>\n",
       "      <td>CCT_Community_1-2.pdf</td>\n",
       "      <td>2022-03-12 18:14:43.111239</td>\n",
       "    </tr>\n",
       "    <tr>\n",
       "      <th>8</th>\n",
       "      <td>เงื่อนไขสำคัญของนักเรียนทุนเสมอภาค</td>\n",
       "      <td><a href=\"https://www.eef.or.th/wp-content/uploads/2020/11/Journal-052-เงื่อนไขสำคัญของนักเรียนทุนเสมอภาค.pdf\" target=\"_blank\">https://www.eef.or.th/wp-content/uploads/2020/11/Journal-052-เงื่อนไขสำคัญของนักเรียนทุนเสมอภาค.pdf</a></td>\n",
       "      <td>Journal-052-เงื่อนไขสำคัญของนักเรียนทุนเสมอภาค.pdf</td>\n",
       "      <td>2022-03-12 18:14:44.045087</td>\n",
       "    </tr>\n",
       "    <tr>\n",
       "      <th>9</th>\n",
       "      <td>ทักษะชีวิต ทักษะอาชีพ</td>\n",
       "      <td><a href=\"https://www.eef.or.th/wp-content/uploads/2020/10/Journal-04-ทักษะชีวิต-ทักษะอาชีพ.pdf\" target=\"_blank\">https://www.eef.or.th/wp-content/uploads/2020/10/Journal-04-ทักษะชีวิต-ทักษะอาชีพ.pdf</a></td>\n",
       "      <td>Journal-04-ทักษะชีวิต-ทักษะอาชีพ.pdf</td>\n",
       "      <td>2022-03-12 18:14:45.049462</td>\n",
       "    </tr>\n",
       "    <tr>\n",
       "      <th>10</th>\n",
       "      <td>บริหารจัดการเงินอุดหนุนนักเรียนทุนอย่างไรให้ยั่งยืน?</td>\n",
       "      <td><a href=\"https://www.eef.or.th/wp-content/uploads/2020/09/Journal-033-การบริหารจัดการเงินอุดหนุนทุนเสมอภาค.pdf\" target=\"_blank\">https://www.eef.or.th/wp-content/uploads/2020/09/Journal-033-การบริหารจัดการเงินอุดหนุนทุนเสมอภาค.pdf</a></td>\n",
       "      <td>Journal-033-การบริหารจัดการเงินอุดหนุนทุนเสมอภาค.pdf</td>\n",
       "      <td>2022-03-12 18:14:45.949280</td>\n",
       "    </tr>\n",
       "    <tr>\n",
       "      <th>11</th>\n",
       "      <td>แบ่งปัน แลกเปลี่ยน เรียนรู้ : เทคโนโลยีเพื่ออนาคต</td>\n",
       "      <td><a href=\"https://www.eef.or.th/wp-content/uploads/2020/09/Journal-024-เทคโนโลยีเพื่ออนาคต.pdf\" target=\"_blank\">https://www.eef.or.th/wp-content/uploads/2020/09/Journal-024-เทคโนโลยีเพื่ออนาคต.pdf</a></td>\n",
       "      <td>Journal-024-เทคโนโลยีเพื่ออนาคต.pdf</td>\n",
       "      <td>2022-03-12 18:14:46.932174</td>\n",
       "    </tr>\n",
       "    <tr>\n",
       "      <th>12</th>\n",
       "      <td>คู่มือโครงการจัดสรรเงินอุดหนุน ปี 2563 อปท.</td>\n",
       "      <td><a href=\"https://www.eef.or.th/wp-content/uploads/2020/08/คู่มือโครงการจัดสรรเงินอุดหนุน-ปี-2563-อปท.pdf\" target=\"_blank\">https://www.eef.or.th/wp-content/uploads/2020/08/คู่มือโครงการจัดสรรเงินอุดหนุน-ปี-2563-อปท.pdf</a></td>\n",
       "      <td>คู่มือโครงการจัดสรรเงินอุดหนุน-ปี-2563-อปท.pdf</td>\n",
       "      <td>2022-03-12 18:14:48.284403</td>\n",
       "    </tr>\n",
       "    <tr>\n",
       "      <th>13</th>\n",
       "      <td>คู่มือโครงการจัดสรรเงินอุดหนุน ปี 2563 สพฐ.</td>\n",
       "      <td><a href=\"https://www.eef.or.th/wp-content/uploads/2020/08/คู่มือโครงการจัดสรรเงินอุดหนุน-ปี-2563-สพฐ.pdf\" target=\"_blank\">https://www.eef.or.th/wp-content/uploads/2020/08/คู่มือโครงการจัดสรรเงินอุดหนุน-ปี-2563-สพฐ.pdf</a></td>\n",
       "      <td>คู่มือโครงการจัดสรรเงินอุดหนุน-ปี-2563-สพฐ.pdf</td>\n",
       "      <td>2022-03-12 18:14:49.862839</td>\n",
       "    </tr>\n",
       "    <tr>\n",
       "      <th>14</th>\n",
       "      <td>คู่มือโครงการจัดสรรเงินอุดหนุน ปี 2563 ตชด.</td>\n",
       "      <td><a href=\"https://www.eef.or.th/wp-content/uploads/2020/08/คู่มือโครงการจัดสรรเงินอุดหนุน-ปี-2563-ตชด.pdf\" target=\"_blank\">https://www.eef.or.th/wp-content/uploads/2020/08/คู่มือโครงการจัดสรรเงินอุดหนุน-ปี-2563-ตชด.pdf</a></td>\n",
       "      <td>คู่มือโครงการจัดสรรเงินอุดหนุน-ปี-2563-ตชด.pdf</td>\n",
       "      <td>2022-03-12 18:14:51.295141</td>\n",
       "    </tr>\n",
       "    <tr>\n",
       "      <th>15</th>\n",
       "      <td>คู่มือการใช้ระบบสารสนเทศ โครงการจัดสรรเงินอุดหนุนฯ 3 สังกัด</td>\n",
       "      <td><a href=\"https://www.eef.or.th/wp-content/uploads/2020/08/คู่มือการใช้ระบบสารสนเทศ-โครงการจัดสรรเงินอุดหนุนฯ-3-สังกัด.pdf\" target=\"_blank\">https://www.eef.or.th/wp-content/uploads/2020/08/คู่มือการใช้ระบบสารสนเทศ-โครงการจัดสรรเงินอุดหนุนฯ-3-สังกัด.pdf</a></td>\n",
       "      <td>คู่มือการใช้ระบบสารสนเทศ-โครงการจัดสรรเงินอุดหนุนฯ-3-สังกัด.pdf</td>\n",
       "      <td>2022-03-12 18:14:52.738657</td>\n",
       "    </tr>\n",
       "    <tr>\n",
       "      <th>16</th>\n",
       "      <td>จดหมายข่าวเสมอภาค ปีที่ 1 ฉบับที่ 1</td>\n",
       "      <td><a href=\"https://www.eef.or.th/wp-content/uploads/2020/06/Newsletter-EFF-01.pdf\" target=\"_blank\">https://www.eef.or.th/wp-content/uploads/2020/06/Newsletter-EFF-01.pdf</a></td>\n",
       "      <td>Newsletter-EFF-01.pdf</td>\n",
       "      <td>2022-03-12 18:14:53.788579</td>\n",
       "    </tr>\n",
       "    <tr>\n",
       "      <th>17</th>\n",
       "      <td>จดหมายข่าวแบ่งปันแลกเปลี่ยนเรียนรู้ ฉบับที่ 2</td>\n",
       "      <td><a href=\"https://www.eef.or.th/wp-content/uploads/2019/07/จดหมายข่าวแบ่งปันแลกเปลี่ยนเรียนรู้ฉบับที่-2.pdf\" target=\"_blank\">https://www.eef.or.th/wp-content/uploads/2019/07/จดหมายข่าวแบ่งปันแลกเปลี่ยนเรียนรู้ฉบับที่-2.pdf</a></td>\n",
       "      <td>จดหมายข่าวแบ่งปันแลกเปลี่ยนเรียนรู้ฉบับที่-2.pdf</td>\n",
       "      <td>2022-03-12 18:14:54.659591</td>\n",
       "    </tr>\n",
       "    <tr>\n",
       "      <th>18</th>\n",
       "      <td>จดหมายข่าวแบ่งปันแลกเปลี่ยนเรียนรู้ ฉบับที่ 1</td>\n",
       "      <td><a href=\"https://www.eef.or.th/wp-content/uploads/2019/05/Booklet-EEF.-Issue-1-May-2019_Ver1.pdf\" target=\"_blank\">https://www.eef.or.th/wp-content/uploads/2019/05/Booklet-EEF.-Issue-1-May-2019_Ver1.pdf</a></td>\n",
       "      <td>Booklet-EEF.-Issue-1-May-2019_Ver1.pdf</td>\n",
       "      <td>2022-03-12 18:14:55.666506</td>\n",
       "    </tr>\n",
       "    <tr>\n",
       "      <th>19</th>\n",
       "      <td>แนะนำหนังสือสูตรห้องเรียนสุขสนุกสอน (ปรุงรสด้วยมือครู)</td>\n",
       "      <td><a href=\"https://www.eef.or.th/wp-content/uploads/2018/09/ปกหนังสือสูตรห้องเรียนสุขสนุกสอน-2.pdf\" target=\"_blank\">https://www.eef.or.th/wp-content/uploads/2018/09/ปกหนังสือสูตรห้องเรียนสุขสนุกสอน-2.pdf</a></td>\n",
       "      <td>ปกหนังสือสูตรห้องเรียนสุขสนุกสอน-2.pdf</td>\n",
       "      <td>2022-03-12 18:14:56.601356</td>\n",
       "    </tr>\n",
       "  </tbody>\n",
       "</table>"
      ],
      "text/plain": [
       "<IPython.core.display.HTML object>"
      ]
     },
     "execution_count": 35,
     "metadata": {},
     "output_type": "execute_result"
    }
   ],
   "source": [
    "HTML(df.to_html(render_links=True, escape=False))"
   ]
  },
  {
   "cell_type": "code",
   "execution_count": 36,
   "id": "c037166c",
   "metadata": {},
   "outputs": [],
   "source": [
    "#driver.get('https://www.eef.or.th/article-stand-with-the-capital-of-the-community/')"
   ]
  },
  {
   "cell_type": "code",
   "execution_count": 37,
   "id": "d58fc580",
   "metadata": {},
   "outputs": [],
   "source": [
    "#soup = BeautifulSoup(driver.page_source,'html.parser')"
   ]
  },
  {
   "cell_type": "code",
   "execution_count": 38,
   "id": "2637002a",
   "metadata": {},
   "outputs": [],
   "source": [
    "#b = soup.select('p')"
   ]
  },
  {
   "cell_type": "code",
   "execution_count": 39,
   "id": "9eb91bd0",
   "metadata": {},
   "outputs": [],
   "source": [
    "#len(b)"
   ]
  },
  {
   "cell_type": "code",
   "execution_count": 40,
   "id": "74b975ae",
   "metadata": {},
   "outputs": [],
   "source": [
    "#text = str(b[13])\n",
    "#text"
   ]
  },
  {
   "cell_type": "code",
   "execution_count": 41,
   "id": "d7b8ab99",
   "metadata": {},
   "outputs": [],
   "source": [
    "#re.search(r'[ก-๙0-9]+',text)"
   ]
  },
  {
   "cell_type": "code",
   "execution_count": 42,
   "id": "18c7c9c4",
   "metadata": {},
   "outputs": [],
   "source": [
    "#tokens = re.findall(r'[ก-๙,0-9]+',text)\n",
    "#tokens"
   ]
  }
 ],
 "metadata": {
  "kernelspec": {
   "display_name": "ML",
   "language": "python",
   "name": "ml"
  },
  "language_info": {
   "codemirror_mode": {
    "name": "ipython",
    "version": 3
   },
   "file_extension": ".py",
   "mimetype": "text/x-python",
   "name": "python",
   "nbconvert_exporter": "python",
   "pygments_lexer": "ipython3",
   "version": "3.9.7"
  }
 },
 "nbformat": 4,
 "nbformat_minor": 5
}
